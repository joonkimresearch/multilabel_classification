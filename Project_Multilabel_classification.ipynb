{
  "nbformat": 4,
  "nbformat_minor": 0,
  "metadata": {
    "colab": {
      "name": "Project_Multilabel_classification.ipynb",
      "provenance": [],
      "collapsed_sections": [
        "DHnWDRnMjTRM",
        "0EckauKFzkUC",
        "LpQ1g1QPjaDg",
        "5J5BSD6VCCkL",
        "NsgFnpmZFmFp",
        "HSLMahkZF5QO",
        "2W-iCT9UeKtZ",
        "ZfA5QwqbRbQR",
        "yuewCsDK-ieK",
        "KzCUFunEjbku",
        "MfssW72u3DEK",
        "XIly3aG63IPQ",
        "Pll7RIl93L6E"
      ]
    },
    "kernelspec": {
      "name": "python3",
      "display_name": "Python 3"
    },
    "language_info": {
      "name": "python"
    },
    "accelerator": "GPU"
  },
  "cells": [
    {
      "cell_type": "markdown",
      "source": [
        "# Multilabel classification with BERT\n",
        "1. Goal\n",
        "  - Build a model that predicts tags (keywords) of articles published on arxiv.\n",
        "  - Compare different solutions for class imbalance problem and multilabel classification problem. Specifically: \n",
        "    - Sampling methods: LPROS vs. MLROS. \n",
        "    - Multilabel classification: binary relevance vs. classifier chain vs. KNN vs. deep learning\n",
        "\n",
        "2. Data: Abstracts published in academic journals https://www.kaggle.com/spsayakpaul/arxiv-paper-abstracts?select=arxiv_data.csv\n",
        "\n",
        "3. Class Imbalance\n",
        "  - The dataset is imbalanced when the occurrence of each label is not equal. In this project, I used the label powerset random oversampling and multilabel random oversampling methods. The LPROS and MLROS approaches are chosen because two methods outperformed other techniques in a recent article ([Terekegn et al., 2021](https://www.sciencedirect.com/science/article/pii/S0031320321001527))\n",
        "\n",
        "4. BERT\n",
        "  - Bidirectional Encoder Representations from Transformers (BERT) is a transformer-based machine learning technique for natural language processing (NLP) pre-training developed by Google ([Devlin et al., 2018](https://arxiv.org/abs/1810.04805)). A transformer is a deep learning model that adopts the mechanism of self-attention, differentially weighting the significance of each part of the input data.\n",
        "\n",
        "5. Binary Relevance vs. Classifier Chain\n",
        "  - Binary relevance approach works by building an independent binary classifier for each class. \n",
        "  - Classifier chain approach works by buidling a binary classifier for each class. The classifier for class i uses predictions from classifier class j where i > j. \n",
        "\n",
        "6. MLKNN\n",
        "  - ML-KNN is derived from the traditional K-nearest neighbor (KNN) algorithm. For each unseen instance, its K nearest neighbors in the training set are firstly identified. After that, based on information gained from the label sets of these neighboring instances, maximum a posteriori (MAP) principle is utilized to determine the label set for the unseen instance ([Zhang & Zhou, 2007](https://www.sciencedirect.com/science/article/pii/S0031320307000027))."
      ],
      "metadata": {
        "id": "CCUXzsOYjOFp"
      }
    },
    {
      "cell_type": "markdown",
      "source": [
        "## Setup"
      ],
      "metadata": {
        "id": "DHnWDRnMjTRM"
      }
    },
    {
      "cell_type": "code",
      "source": [
        "# To run KNN, 0.24.1 is required \n",
        "import sklearn\n",
        "sklearn.__version__"
      ],
      "metadata": {
        "id": "wh2I3eZ_UDLr",
        "colab": {
          "base_uri": "https://localhost:8080/",
          "height": 36
        },
        "outputId": "e7a30507-6e79-499f-948a-3e87d4acdaf9"
      },
      "execution_count": 2,
      "outputs": [
        {
          "output_type": "execute_result",
          "data": {
            "text/plain": [
              "'0.24.1'"
            ],
            "application/vnd.google.colaboratory.intrinsic+json": {
              "type": "string"
            }
          },
          "metadata": {},
          "execution_count": 2
        }
      ]
    },
    {
      "cell_type": "code",
      "execution_count": 3,
      "metadata": {
        "id": "-JBOa5AejLvZ"
      },
      "outputs": [],
      "source": [
        "# Import packages\n",
        "import numpy as np\n",
        "import pandas as pd\n",
        "import ast\n",
        "from sklearn.model_selection import train_test_split\n",
        "from sklearn.linear_model import LogisticRegression\n",
        "from sentence_transformers import SentenceTransformer\n",
        "from skmultilearn.problem_transform import ClassifierChain\n",
        "import warnings\n",
        "warnings.filterwarnings('ignore')\n",
        "import scipy.sparse\n",
        "from sklearn.pipeline import Pipeline\n",
        "from sklearn.metrics import classification_report, precision_score, recall_score, accuracy_score, f1_score, roc_auc_score, hamming_loss\n",
        "import joblib"
      ]
    },
    {
      "cell_type": "code",
      "source": [
        "from tensorflow.keras import layers\n",
        "from tensorflow import keras\n",
        "import tensorflow as tf\n",
        "from ast import literal_eval\n",
        "import matplotlib.pyplot as plt"
      ],
      "metadata": {
        "id": "2phHYfgGnZhz"
      },
      "execution_count": 4,
      "outputs": []
    },
    {
      "cell_type": "markdown",
      "source": [
        "## Import Data"
      ],
      "metadata": {
        "id": "j4tAp03jFJgu"
      }
    },
    {
      "cell_type": "markdown",
      "source": [
        "### Kaggle"
      ],
      "metadata": {
        "id": "0EckauKFzkUC"
      }
    },
    {
      "cell_type": "code",
      "source": [
        "# Import data\n",
        "!pip install kaggle"
      ],
      "metadata": {
        "id": "gM2OazX8jX1W"
      },
      "execution_count": null,
      "outputs": []
    },
    {
      "cell_type": "code",
      "source": [
        "!mkdir ~/.kaggle"
      ],
      "metadata": {
        "id": "QOti4IQ4k6hl"
      },
      "execution_count": null,
      "outputs": []
    },
    {
      "cell_type": "code",
      "source": [
        "from google.colab import files\n",
        "files.upload()"
      ],
      "metadata": {
        "id": "3T_TdbDAl0iQ"
      },
      "execution_count": null,
      "outputs": []
    },
    {
      "cell_type": "code",
      "source": [
        "!cp kaggle.json ~/.kaggle/"
      ],
      "metadata": {
        "id": "eg_7o7i_lC01"
      },
      "execution_count": 8,
      "outputs": []
    },
    {
      "cell_type": "code",
      "source": [
        "!chmod 600 ~/.kaggle/kaggle.json"
      ],
      "metadata": {
        "id": "vjbXIZgGlGDo"
      },
      "execution_count": 9,
      "outputs": []
    },
    {
      "cell_type": "code",
      "source": [
        "!kaggle datasets download -d spsayakpaul/arxiv-paper-abstracts"
      ],
      "metadata": {
        "id": "9az07jBSl9vt"
      },
      "execution_count": null,
      "outputs": []
    },
    {
      "cell_type": "code",
      "source": [
        "!unzip arxiv-paper-abstracts.zip -d kaggle"
      ],
      "metadata": {
        "id": "2sW2Kg-jmnWP"
      },
      "execution_count": null,
      "outputs": []
    },
    {
      "cell_type": "code",
      "source": [
        "df = pd.read_csv(\"/content/kaggle/arxiv_data.csv\")"
      ],
      "metadata": {
        "id": "UeoEae0Bmwnb"
      },
      "execution_count": 12,
      "outputs": []
    },
    {
      "cell_type": "code",
      "source": [
        "print(df.shape)\n",
        "df.head()"
      ],
      "metadata": {
        "colab": {
          "base_uri": "https://localhost:8080/",
          "height": 224
        },
        "id": "ja-4YKJkoR4q",
        "outputId": "ae133d8a-0b76-46cd-d751-f9892ee6d91e"
      },
      "execution_count": 13,
      "outputs": [
        {
          "output_type": "stream",
          "name": "stdout",
          "text": [
            "(51774, 3)\n"
          ]
        },
        {
          "output_type": "execute_result",
          "data": {
            "text/plain": [
              "                                              titles  \\\n",
              "0  Survey on Semantic Stereo Matching / Semantic ...   \n",
              "1  FUTURE-AI: Guiding Principles and Consensus Re...   \n",
              "2  Enforcing Mutual Consistency of Hard Regions f...   \n",
              "3  Parameter Decoupling Strategy for Semi-supervi...   \n",
              "4  Background-Foreground Segmentation for Interio...   \n",
              "\n",
              "                                           summaries  \\\n",
              "0  Stereo matching is one of the widely used tech...   \n",
              "1  The recent advancements in artificial intellig...   \n",
              "2  In this paper, we proposed a novel mutual cons...   \n",
              "3  Consistency training has proven to be an advan...   \n",
              "4  To ensure safety in automated driving, the cor...   \n",
              "\n",
              "                         terms  \n",
              "0           ['cs.CV', 'cs.LG']  \n",
              "1  ['cs.CV', 'cs.AI', 'cs.LG']  \n",
              "2           ['cs.CV', 'cs.AI']  \n",
              "3                    ['cs.CV']  \n",
              "4           ['cs.CV', 'cs.LG']  "
            ],
            "text/html": [
              "\n",
              "  <div id=\"df-d848d395-8479-4ba8-b49d-87cda7cf07cd\">\n",
              "    <div class=\"colab-df-container\">\n",
              "      <div>\n",
              "<style scoped>\n",
              "    .dataframe tbody tr th:only-of-type {\n",
              "        vertical-align: middle;\n",
              "    }\n",
              "\n",
              "    .dataframe tbody tr th {\n",
              "        vertical-align: top;\n",
              "    }\n",
              "\n",
              "    .dataframe thead th {\n",
              "        text-align: right;\n",
              "    }\n",
              "</style>\n",
              "<table border=\"1\" class=\"dataframe\">\n",
              "  <thead>\n",
              "    <tr style=\"text-align: right;\">\n",
              "      <th></th>\n",
              "      <th>titles</th>\n",
              "      <th>summaries</th>\n",
              "      <th>terms</th>\n",
              "    </tr>\n",
              "  </thead>\n",
              "  <tbody>\n",
              "    <tr>\n",
              "      <th>0</th>\n",
              "      <td>Survey on Semantic Stereo Matching / Semantic ...</td>\n",
              "      <td>Stereo matching is one of the widely used tech...</td>\n",
              "      <td>['cs.CV', 'cs.LG']</td>\n",
              "    </tr>\n",
              "    <tr>\n",
              "      <th>1</th>\n",
              "      <td>FUTURE-AI: Guiding Principles and Consensus Re...</td>\n",
              "      <td>The recent advancements in artificial intellig...</td>\n",
              "      <td>['cs.CV', 'cs.AI', 'cs.LG']</td>\n",
              "    </tr>\n",
              "    <tr>\n",
              "      <th>2</th>\n",
              "      <td>Enforcing Mutual Consistency of Hard Regions f...</td>\n",
              "      <td>In this paper, we proposed a novel mutual cons...</td>\n",
              "      <td>['cs.CV', 'cs.AI']</td>\n",
              "    </tr>\n",
              "    <tr>\n",
              "      <th>3</th>\n",
              "      <td>Parameter Decoupling Strategy for Semi-supervi...</td>\n",
              "      <td>Consistency training has proven to be an advan...</td>\n",
              "      <td>['cs.CV']</td>\n",
              "    </tr>\n",
              "    <tr>\n",
              "      <th>4</th>\n",
              "      <td>Background-Foreground Segmentation for Interio...</td>\n",
              "      <td>To ensure safety in automated driving, the cor...</td>\n",
              "      <td>['cs.CV', 'cs.LG']</td>\n",
              "    </tr>\n",
              "  </tbody>\n",
              "</table>\n",
              "</div>\n",
              "      <button class=\"colab-df-convert\" onclick=\"convertToInteractive('df-d848d395-8479-4ba8-b49d-87cda7cf07cd')\"\n",
              "              title=\"Convert this dataframe to an interactive table.\"\n",
              "              style=\"display:none;\">\n",
              "        \n",
              "  <svg xmlns=\"http://www.w3.org/2000/svg\" height=\"24px\"viewBox=\"0 0 24 24\"\n",
              "       width=\"24px\">\n",
              "    <path d=\"M0 0h24v24H0V0z\" fill=\"none\"/>\n",
              "    <path d=\"M18.56 5.44l.94 2.06.94-2.06 2.06-.94-2.06-.94-.94-2.06-.94 2.06-2.06.94zm-11 1L8.5 8.5l.94-2.06 2.06-.94-2.06-.94L8.5 2.5l-.94 2.06-2.06.94zm10 10l.94 2.06.94-2.06 2.06-.94-2.06-.94-.94-2.06-.94 2.06-2.06.94z\"/><path d=\"M17.41 7.96l-1.37-1.37c-.4-.4-.92-.59-1.43-.59-.52 0-1.04.2-1.43.59L10.3 9.45l-7.72 7.72c-.78.78-.78 2.05 0 2.83L4 21.41c.39.39.9.59 1.41.59.51 0 1.02-.2 1.41-.59l7.78-7.78 2.81-2.81c.8-.78.8-2.07 0-2.86zM5.41 20L4 18.59l7.72-7.72 1.47 1.35L5.41 20z\"/>\n",
              "  </svg>\n",
              "      </button>\n",
              "      \n",
              "  <style>\n",
              "    .colab-df-container {\n",
              "      display:flex;\n",
              "      flex-wrap:wrap;\n",
              "      gap: 12px;\n",
              "    }\n",
              "\n",
              "    .colab-df-convert {\n",
              "      background-color: #E8F0FE;\n",
              "      border: none;\n",
              "      border-radius: 50%;\n",
              "      cursor: pointer;\n",
              "      display: none;\n",
              "      fill: #1967D2;\n",
              "      height: 32px;\n",
              "      padding: 0 0 0 0;\n",
              "      width: 32px;\n",
              "    }\n",
              "\n",
              "    .colab-df-convert:hover {\n",
              "      background-color: #E2EBFA;\n",
              "      box-shadow: 0px 1px 2px rgba(60, 64, 67, 0.3), 0px 1px 3px 1px rgba(60, 64, 67, 0.15);\n",
              "      fill: #174EA6;\n",
              "    }\n",
              "\n",
              "    [theme=dark] .colab-df-convert {\n",
              "      background-color: #3B4455;\n",
              "      fill: #D2E3FC;\n",
              "    }\n",
              "\n",
              "    [theme=dark] .colab-df-convert:hover {\n",
              "      background-color: #434B5C;\n",
              "      box-shadow: 0px 1px 3px 1px rgba(0, 0, 0, 0.15);\n",
              "      filter: drop-shadow(0px 1px 2px rgba(0, 0, 0, 0.3));\n",
              "      fill: #FFFFFF;\n",
              "    }\n",
              "  </style>\n",
              "\n",
              "      <script>\n",
              "        const buttonEl =\n",
              "          document.querySelector('#df-d848d395-8479-4ba8-b49d-87cda7cf07cd button.colab-df-convert');\n",
              "        buttonEl.style.display =\n",
              "          google.colab.kernel.accessAllowed ? 'block' : 'none';\n",
              "\n",
              "        async function convertToInteractive(key) {\n",
              "          const element = document.querySelector('#df-d848d395-8479-4ba8-b49d-87cda7cf07cd');\n",
              "          const dataTable =\n",
              "            await google.colab.kernel.invokeFunction('convertToInteractive',\n",
              "                                                     [key], {});\n",
              "          if (!dataTable) return;\n",
              "\n",
              "          const docLinkHtml = 'Like what you see? Visit the ' +\n",
              "            '<a target=\"_blank\" href=https://colab.research.google.com/notebooks/data_table.ipynb>data table notebook</a>'\n",
              "            + ' to learn more about interactive tables.';\n",
              "          element.innerHTML = '';\n",
              "          dataTable['output_type'] = 'display_data';\n",
              "          await google.colab.output.renderOutput(dataTable, element);\n",
              "          const docLink = document.createElement('div');\n",
              "          docLink.innerHTML = docLinkHtml;\n",
              "          element.appendChild(docLink);\n",
              "        }\n",
              "      </script>\n",
              "    </div>\n",
              "  </div>\n",
              "  "
            ]
          },
          "metadata": {},
          "execution_count": 13
        }
      ]
    },
    {
      "cell_type": "code",
      "source": [
        "total_duplicate_titles = sum(df[\"titles\"].duplicated())\n",
        "print(f\"There are {total_duplicate_titles} duplicate titles.\")"
      ],
      "metadata": {
        "colab": {
          "base_uri": "https://localhost:8080/"
        },
        "id": "hmVHuqSuUabe",
        "outputId": "be73c037-db25-4cef-ac64-e04ad4ba65fe"
      },
      "execution_count": 14,
      "outputs": [
        {
          "output_type": "stream",
          "name": "stdout",
          "text": [
            "There are 12802 duplicate titles.\n"
          ]
        }
      ]
    },
    {
      "cell_type": "code",
      "source": [
        "df = df[~df[\"titles\"].duplicated()]\n",
        "print(f\"There are {len(df)} rows in the clean dataset.\")\n",
        "# Select samples\n",
        "df = df.sample(n = 5000, random_state = 1)\n",
        "# Choose the column \n",
        "df = df[[\"summaries\", \"terms\"]]"
      ],
      "metadata": {
        "id": "znaxPwU-sMUB",
        "colab": {
          "base_uri": "https://localhost:8080/"
        },
        "outputId": "0129a50e-a8c4-41a7-dff1-0696447b37db"
      },
      "execution_count": 15,
      "outputs": [
        {
          "output_type": "stream",
          "name": "stdout",
          "text": [
            "There are 38972 rows in the clean dataset.\n"
          ]
        }
      ]
    },
    {
      "cell_type": "markdown",
      "source": [
        "## Binary Relevance, Classifier Chain, MLKNN \n",
        "### Preprocessing"
      ],
      "metadata": {
        "id": "LpQ1g1QPjaDg"
      }
    },
    {
      "cell_type": "markdown",
      "source": [
        "#### Filtering"
      ],
      "metadata": {
        "id": "5J5BSD6VCCkL"
      }
    },
    {
      "cell_type": "code",
      "source": [
        "# Convert list of strings to lists \n",
        "df['terms'] = df['terms'].apply(lambda x: ast.literal_eval(x))"
      ],
      "metadata": {
        "id": "C48gBJrju59Z"
      },
      "execution_count": 16,
      "outputs": []
    },
    {
      "cell_type": "code",
      "source": [
        "# Calculate the number of unique keywords in \"Terms\" column\n",
        "print(df['terms'].explode().value_counts()[0:10])\n",
        "print(\"Number of unique terms:\", len(df['terms'].explode().unique()))"
      ],
      "metadata": {
        "colab": {
          "base_uri": "https://localhost:8080/"
        },
        "id": "2CAikWdcoRSu",
        "outputId": "7a6fe949-b091-47c3-cd5c-3fface49a36a"
      },
      "execution_count": 17,
      "outputs": [
        {
          "output_type": "stream",
          "name": "stdout",
          "text": [
            "cs.CV      2854\n",
            "cs.LG      2826\n",
            "stat.ML    1573\n",
            "cs.AI       729\n",
            "eess.IV     214\n",
            "cs.RO       208\n",
            "cs.CL       138\n",
            "cs.NE       136\n",
            "cs.CR        77\n",
            "math.OC      77\n",
            "Name: terms, dtype: int64\n",
            "Number of unique terms: 273\n"
          ]
        }
      ]
    },
    {
      "cell_type": "code",
      "source": [
        "# Choose top 5 keywords \n",
        "from collections import Counter\n",
        "top_terms_list = Counter(list(df['terms'].explode())).most_common(5)\n",
        "top_terms = [a_tuple[0] for a_tuple in top_terms_list]\n",
        "top_terms"
      ],
      "metadata": {
        "colab": {
          "base_uri": "https://localhost:8080/"
        },
        "id": "NcAqkbxFvm9r",
        "outputId": "dd1b32b0-262f-4a7b-af81-87a7bfca8803"
      },
      "execution_count": 18,
      "outputs": [
        {
          "output_type": "execute_result",
          "data": {
            "text/plain": [
              "['cs.CV', 'cs.LG', 'stat.ML', 'cs.AI', 'eess.IV']"
            ]
          },
          "metadata": {},
          "execution_count": 18
        }
      ]
    },
    {
      "cell_type": "code",
      "source": [
        "df['terms'].head()"
      ],
      "metadata": {
        "colab": {
          "base_uri": "https://localhost:8080/"
        },
        "id": "EONjY0OY2a1F",
        "outputId": "5ae54b02-4db3-497f-cd36-11dca7a88e6a"
      },
      "execution_count": 19,
      "outputs": [
        {
          "output_type": "execute_result",
          "data": {
            "text/plain": [
              "1342                                               [cs.CV]\n",
              "19326                                       [cs.CV, cs.AI]\n",
              "22098    [cs.LG, physics.app-ph, physics.chem-ph, physi...\n",
              "48541                                [cs.LG, cs.AI, cs.SE]\n",
              "12544                                       [cs.CV, cs.LG]\n",
              "Name: terms, dtype: object"
            ]
          },
          "metadata": {},
          "execution_count": 19
        }
      ]
    },
    {
      "cell_type": "code",
      "source": [
        "df.reset_index(drop=True, inplace=True)"
      ],
      "metadata": {
        "id": "u5mxycZs3mNJ"
      },
      "execution_count": 20,
      "outputs": []
    },
    {
      "cell_type": "code",
      "source": [
        "# Filter out records that have at least one of the top keywords\n",
        "x = [] # To store the filtered text (features)\n",
        "y = [] # to store the corresponding terms (labels)\n",
        "\n",
        "for i in range(len(df['terms'])):\n",
        "    temp = []\n",
        "    for term in df['terms'][i]:\n",
        "        if term in top_terms:\n",
        "            temp.append(term)\n",
        "\n",
        "    if(len(temp)>0):\n",
        "        x.append(df['summaries'][i])\n",
        "        y.append(temp)"
      ],
      "metadata": {
        "id": "CWvd5S4n3DDA"
      },
      "execution_count": 21,
      "outputs": []
    },
    {
      "cell_type": "markdown",
      "source": [
        "#### One Hot Encoding: Individual Labels"
      ],
      "metadata": {
        "id": "NsgFnpmZFmFp"
      }
    },
    {
      "cell_type": "code",
      "source": [
        "from sklearn.preprocessing import MultiLabelBinarizer\n",
        "mlb = MultiLabelBinarizer() \n",
        "yt = mlb.fit_transform(y)\n",
        "yt.shape"
      ],
      "metadata": {
        "id": "JPvvkVMj00_V",
        "colab": {
          "base_uri": "https://localhost:8080/"
        },
        "outputId": "cc7c7bfd-1276-474a-b450-4525fda7b988"
      },
      "execution_count": 22,
      "outputs": [
        {
          "output_type": "execute_result",
          "data": {
            "text/plain": [
              "(5000, 5)"
            ]
          },
          "metadata": {},
          "execution_count": 22
        }
      ]
    },
    {
      "cell_type": "code",
      "source": [
        "yt"
      ],
      "metadata": {
        "colab": {
          "base_uri": "https://localhost:8080/"
        },
        "id": "Iqbzo7Zr_dPz",
        "outputId": "9b3ab6bf-ede8-4508-e9da-6e5d1c9c978f"
      },
      "execution_count": 23,
      "outputs": [
        {
          "output_type": "execute_result",
          "data": {
            "text/plain": [
              "array([[0, 1, 0, 0, 0],\n",
              "       [1, 1, 0, 0, 0],\n",
              "       [0, 0, 1, 0, 0],\n",
              "       ...,\n",
              "       [0, 0, 1, 0, 1],\n",
              "       [0, 1, 0, 0, 0],\n",
              "       [1, 0, 1, 0, 0]])"
            ]
          },
          "metadata": {},
          "execution_count": 23
        }
      ]
    },
    {
      "cell_type": "code",
      "source": [
        "# build a dataframe with the feature (text) and labels \n",
        "df_filtered = pd.DataFrame()\n",
        "df_filtered['text'] = x\n",
        "df_labels = pd.DataFrame(yt, columns = top_terms)\n",
        "df_filtered = pd.concat([df_filtered, df_labels], axis = 1)"
      ],
      "metadata": {
        "id": "J882DPw0AoCS"
      },
      "execution_count": 24,
      "outputs": []
    },
    {
      "cell_type": "markdown",
      "source": [
        "#### Label Powerset "
      ],
      "metadata": {
        "id": "HSLMahkZF5QO"
      }
    },
    {
      "cell_type": "code",
      "source": [
        "# Add label powerset \n",
        "df_filtered['powerlabel'] = df_filtered.apply(lambda x : 16*x['cs.CV']+8*x['cs.LG']+4*x['stat.ML']+2*x['cs.AI']+1*x['eess.IV'],axis=1)\n",
        "\n",
        "# Create a histogram to confirm data imbalance \n",
        "df_filtered['powerlabel'].hist(bins=np.unique(df_filtered['powerlabel']))"
      ],
      "metadata": {
        "id": "gKCLypOqwPWH",
        "colab": {
          "base_uri": "https://localhost:8080/",
          "height": 285
        },
        "outputId": "4ca570f3-43be-402c-d1b5-97d743bb0ab1"
      },
      "execution_count": 25,
      "outputs": [
        {
          "output_type": "execute_result",
          "data": {
            "text/plain": [
              "<matplotlib.axes._subplots.AxesSubplot at 0x7ffa2029e9d0>"
            ]
          },
          "metadata": {},
          "execution_count": 25
        },
        {
          "output_type": "display_data",
          "data": {
            "text/plain": [
              "<Figure size 432x288 with 1 Axes>"
            ],
            "image/png": "[encoded data removed]"
          },
          "metadata": {
            "needs_background": "light"
          }
        }
      ]
    },
    {
      "cell_type": "code",
      "source": [
        "df_filtered.head()"
      ],
      "metadata": {
        "colab": {
          "base_uri": "https://localhost:8080/",
          "height": 206
        },
        "id": "rtbQ5v53AsYF",
        "outputId": "e15c72ef-d75f-441c-e1f2-62a47f8a1e09"
      },
      "execution_count": 26,
      "outputs": [
        {
          "output_type": "execute_result",
          "data": {
            "text/plain": [
              "                                                text  cs.CV  cs.LG  stat.ML  \\\n",
              "0  This report describes the design, implementati...      0      1        0   \n",
              "1  Recent advances in document image analysis (DI...      1      1        0   \n",
              "2  Bayesian optimization (BO) is a popular paradi...      0      0        1   \n",
              "3  Learning algorithms produce software models fo...      1      0        1   \n",
              "4  Capsules are the name given by Geoffrey Hinton...      0      1        1   \n",
              "\n",
              "   cs.AI  eess.IV  powerlabel  \n",
              "0      0        0           8  \n",
              "1      0        0          24  \n",
              "2      0        0           4  \n",
              "3      0        0          20  \n",
              "4      0        0          12  "
            ],
            "text/html": [
              "\n",
              "  <div id=\"df-8c3ea4b4-447b-4a29-acd6-d27a85c30950\">\n",
              "    <div class=\"colab-df-container\">\n",
              "      <div>\n",
              "<style scoped>\n",
              "    .dataframe tbody tr th:only-of-type {\n",
              "        vertical-align: middle;\n",
              "    }\n",
              "\n",
              "    .dataframe tbody tr th {\n",
              "        vertical-align: top;\n",
              "    }\n",
              "\n",
              "    .dataframe thead th {\n",
              "        text-align: right;\n",
              "    }\n",
              "</style>\n",
              "<table border=\"1\" class=\"dataframe\">\n",
              "  <thead>\n",
              "    <tr style=\"text-align: right;\">\n",
              "      <th></th>\n",
              "      <th>text</th>\n",
              "      <th>cs.CV</th>\n",
              "      <th>cs.LG</th>\n",
              "      <th>stat.ML</th>\n",
              "      <th>cs.AI</th>\n",
              "      <th>eess.IV</th>\n",
              "      <th>powerlabel</th>\n",
              "    </tr>\n",
              "  </thead>\n",
              "  <tbody>\n",
              "    <tr>\n",
              "      <th>0</th>\n",
              "      <td>This report describes the design, implementati...</td>\n",
              "      <td>0</td>\n",
              "      <td>1</td>\n",
              "      <td>0</td>\n",
              "      <td>0</td>\n",
              "      <td>0</td>\n",
              "      <td>8</td>\n",
              "    </tr>\n",
              "    <tr>\n",
              "      <th>1</th>\n",
              "      <td>Recent advances in document image analysis (DI...</td>\n",
              "      <td>1</td>\n",
              "      <td>1</td>\n",
              "      <td>0</td>\n",
              "      <td>0</td>\n",
              "      <td>0</td>\n",
              "      <td>24</td>\n",
              "    </tr>\n",
              "    <tr>\n",
              "      <th>2</th>\n",
              "      <td>Bayesian optimization (BO) is a popular paradi...</td>\n",
              "      <td>0</td>\n",
              "      <td>0</td>\n",
              "      <td>1</td>\n",
              "      <td>0</td>\n",
              "      <td>0</td>\n",
              "      <td>4</td>\n",
              "    </tr>\n",
              "    <tr>\n",
              "      <th>3</th>\n",
              "      <td>Learning algorithms produce software models fo...</td>\n",
              "      <td>1</td>\n",
              "      <td>0</td>\n",
              "      <td>1</td>\n",
              "      <td>0</td>\n",
              "      <td>0</td>\n",
              "      <td>20</td>\n",
              "    </tr>\n",
              "    <tr>\n",
              "      <th>4</th>\n",
              "      <td>Capsules are the name given by Geoffrey Hinton...</td>\n",
              "      <td>0</td>\n",
              "      <td>1</td>\n",
              "      <td>1</td>\n",
              "      <td>0</td>\n",
              "      <td>0</td>\n",
              "      <td>12</td>\n",
              "    </tr>\n",
              "  </tbody>\n",
              "</table>\n",
              "</div>\n",
              "      <button class=\"colab-df-convert\" onclick=\"convertToInteractive('df-8c3ea4b4-447b-4a29-acd6-d27a85c30950')\"\n",
              "              title=\"Convert this dataframe to an interactive table.\"\n",
              "              style=\"display:none;\">\n",
              "        \n",
              "  <svg xmlns=\"http://www.w3.org/2000/svg\" height=\"24px\"viewBox=\"0 0 24 24\"\n",
              "       width=\"24px\">\n",
              "    <path d=\"M0 0h24v24H0V0z\" fill=\"none\"/>\n",
              "    <path d=\"M18.56 5.44l.94 2.06.94-2.06 2.06-.94-2.06-.94-.94-2.06-.94 2.06-2.06.94zm-11 1L8.5 8.5l.94-2.06 2.06-.94-2.06-.94L8.5 2.5l-.94 2.06-2.06.94zm10 10l.94 2.06.94-2.06 2.06-.94-2.06-.94-.94-2.06-.94 2.06-2.06.94z\"/><path d=\"M17.41 7.96l-1.37-1.37c-.4-.4-.92-.59-1.43-.59-.52 0-1.04.2-1.43.59L10.3 9.45l-7.72 7.72c-.78.78-.78 2.05 0 2.83L4 21.41c.39.39.9.59 1.41.59.51 0 1.02-.2 1.41-.59l7.78-7.78 2.81-2.81c.8-.78.8-2.07 0-2.86zM5.41 20L4 18.59l7.72-7.72 1.47 1.35L5.41 20z\"/>\n",
              "  </svg>\n",
              "      </button>\n",
              "      \n",
              "  <style>\n",
              "    .colab-df-container {\n",
              "      display:flex;\n",
              "      flex-wrap:wrap;\n",
              "      gap: 12px;\n",
              "    }\n",
              "\n",
              "    .colab-df-convert {\n",
              "      background-color: #E8F0FE;\n",
              "      border: none;\n",
              "      border-radius: 50%;\n",
              "      cursor: pointer;\n",
              "      display: none;\n",
              "      fill: #1967D2;\n",
              "      height: 32px;\n",
              "      padding: 0 0 0 0;\n",
              "      width: 32px;\n",
              "    }\n",
              "\n",
              "    .colab-df-convert:hover {\n",
              "      background-color: #E2EBFA;\n",
              "      box-shadow: 0px 1px 2px rgba(60, 64, 67, 0.3), 0px 1px 3px 1px rgba(60, 64, 67, 0.15);\n",
              "      fill: #174EA6;\n",
              "    }\n",
              "\n",
              "    [theme=dark] .colab-df-convert {\n",
              "      background-color: #3B4455;\n",
              "      fill: #D2E3FC;\n",
              "    }\n",
              "\n",
              "    [theme=dark] .colab-df-convert:hover {\n",
              "      background-color: #434B5C;\n",
              "      box-shadow: 0px 1px 3px 1px rgba(0, 0, 0, 0.15);\n",
              "      filter: drop-shadow(0px 1px 2px rgba(0, 0, 0, 0.3));\n",
              "      fill: #FFFFFF;\n",
              "    }\n",
              "  </style>\n",
              "\n",
              "      <script>\n",
              "        const buttonEl =\n",
              "          document.querySelector('#df-8c3ea4b4-447b-4a29-acd6-d27a85c30950 button.colab-df-convert');\n",
              "        buttonEl.style.display =\n",
              "          google.colab.kernel.accessAllowed ? 'block' : 'none';\n",
              "\n",
              "        async function convertToInteractive(key) {\n",
              "          const element = document.querySelector('#df-8c3ea4b4-447b-4a29-acd6-d27a85c30950');\n",
              "          const dataTable =\n",
              "            await google.colab.kernel.invokeFunction('convertToInteractive',\n",
              "                                                     [key], {});\n",
              "          if (!dataTable) return;\n",
              "\n",
              "          const docLinkHtml = 'Like what you see? Visit the ' +\n",
              "            '<a target=\"_blank\" href=https://colab.research.google.com/notebooks/data_table.ipynb>data table notebook</a>'\n",
              "            + ' to learn more about interactive tables.';\n",
              "          element.innerHTML = '';\n",
              "          dataTable['output_type'] = 'display_data';\n",
              "          await google.colab.output.renderOutput(dataTable, element);\n",
              "          const docLink = document.createElement('div');\n",
              "          docLink.innerHTML = docLinkHtml;\n",
              "          element.appendChild(docLink);\n",
              "        }\n",
              "      </script>\n",
              "    </div>\n",
              "  </div>\n",
              "  "
            ]
          },
          "metadata": {},
          "execution_count": 26
        }
      ]
    },
    {
      "cell_type": "markdown",
      "source": [
        "#### Train-test split"
      ],
      "metadata": {
        "id": "2W-iCT9UeKtZ"
      }
    },
    {
      "cell_type": "code",
      "source": [
        "train, test = train_test_split(df_filtered, test_size = 0.3, random_state = 1)\n",
        "train = train.reset_index(drop = True)"
      ],
      "metadata": {
        "id": "x_yMkuiZCuW5"
      },
      "execution_count": 27,
      "outputs": []
    },
    {
      "cell_type": "code",
      "source": [
        "train.head()"
      ],
      "metadata": {
        "colab": {
          "base_uri": "https://localhost:8080/",
          "height": 206
        },
        "id": "U61cZ5Q_BWjU",
        "outputId": "8853a00c-e2a2-4b0f-d622-44c401402966"
      },
      "execution_count": 28,
      "outputs": [
        {
          "output_type": "execute_result",
          "data": {
            "text/plain": [
              "                                                text  cs.CV  cs.LG  stat.ML  \\\n",
              "0  Today deep convolutional neural networks (CNNs...      0      1        0   \n",
              "1  In the paper, we propose a class of efficient ...      0      0        1   \n",
              "2  The generative adversarial network (GAN) exhib...      0      1        1   \n",
              "3  Though convolutional neural networks are widel...      1      1        0   \n",
              "4  In recent years, advances in the development o...      0      1        0   \n",
              "\n",
              "   cs.AI  eess.IV  powerlabel  \n",
              "0      0        0           8  \n",
              "1      0        1           5  \n",
              "2      1        0          14  \n",
              "3      0        0          24  \n",
              "4      0        0           8  "
            ],
            "text/html": [
              "\n",
              "  <div id=\"df-e1988154-a98a-4b16-a026-720b9d240b27\">\n",
              "    <div class=\"colab-df-container\">\n",
              "      <div>\n",
              "<style scoped>\n",
              "    .dataframe tbody tr th:only-of-type {\n",
              "        vertical-align: middle;\n",
              "    }\n",
              "\n",
              "    .dataframe tbody tr th {\n",
              "        vertical-align: top;\n",
              "    }\n",
              "\n",
              "    .dataframe thead th {\n",
              "        text-align: right;\n",
              "    }\n",
              "</style>\n",
              "<table border=\"1\" class=\"dataframe\">\n",
              "  <thead>\n",
              "    <tr style=\"text-align: right;\">\n",
              "      <th></th>\n",
              "      <th>text</th>\n",
              "      <th>cs.CV</th>\n",
              "      <th>cs.LG</th>\n",
              "      <th>stat.ML</th>\n",
              "      <th>cs.AI</th>\n",
              "      <th>eess.IV</th>\n",
              "      <th>powerlabel</th>\n",
              "    </tr>\n",
              "  </thead>\n",
              "  <tbody>\n",
              "    <tr>\n",
              "      <th>0</th>\n",
              "      <td>Today deep convolutional neural networks (CNNs...</td>\n",
              "      <td>0</td>\n",
              "      <td>1</td>\n",
              "      <td>0</td>\n",
              "      <td>0</td>\n",
              "      <td>0</td>\n",
              "      <td>8</td>\n",
              "    </tr>\n",
              "    <tr>\n",
              "      <th>1</th>\n",
              "      <td>In the paper, we propose a class of efficient ...</td>\n",
              "      <td>0</td>\n",
              "      <td>0</td>\n",
              "      <td>1</td>\n",
              "      <td>0</td>\n",
              "      <td>1</td>\n",
              "      <td>5</td>\n",
              "    </tr>\n",
              "    <tr>\n",
              "      <th>2</th>\n",
              "      <td>The generative adversarial network (GAN) exhib...</td>\n",
              "      <td>0</td>\n",
              "      <td>1</td>\n",
              "      <td>1</td>\n",
              "      <td>1</td>\n",
              "      <td>0</td>\n",
              "      <td>14</td>\n",
              "    </tr>\n",
              "    <tr>\n",
              "      <th>3</th>\n",
              "      <td>Though convolutional neural networks are widel...</td>\n",
              "      <td>1</td>\n",
              "      <td>1</td>\n",
              "      <td>0</td>\n",
              "      <td>0</td>\n",
              "      <td>0</td>\n",
              "      <td>24</td>\n",
              "    </tr>\n",
              "    <tr>\n",
              "      <th>4</th>\n",
              "      <td>In recent years, advances in the development o...</td>\n",
              "      <td>0</td>\n",
              "      <td>1</td>\n",
              "      <td>0</td>\n",
              "      <td>0</td>\n",
              "      <td>0</td>\n",
              "      <td>8</td>\n",
              "    </tr>\n",
              "  </tbody>\n",
              "</table>\n",
              "</div>\n",
              "      <button class=\"colab-df-convert\" onclick=\"convertToInteractive('df-e1988154-a98a-4b16-a026-720b9d240b27')\"\n",
              "              title=\"Convert this dataframe to an interactive table.\"\n",
              "              style=\"display:none;\">\n",
              "        \n",
              "  <svg xmlns=\"http://www.w3.org/2000/svg\" height=\"24px\"viewBox=\"0 0 24 24\"\n",
              "       width=\"24px\">\n",
              "    <path d=\"M0 0h24v24H0V0z\" fill=\"none\"/>\n",
              "    <path d=\"M18.56 5.44l.94 2.06.94-2.06 2.06-.94-2.06-.94-.94-2.06-.94 2.06-2.06.94zm-11 1L8.5 8.5l.94-2.06 2.06-.94-2.06-.94L8.5 2.5l-.94 2.06-2.06.94zm10 10l.94 2.06.94-2.06 2.06-.94-2.06-.94-.94-2.06-.94 2.06-2.06.94z\"/><path d=\"M17.41 7.96l-1.37-1.37c-.4-.4-.92-.59-1.43-.59-.52 0-1.04.2-1.43.59L10.3 9.45l-7.72 7.72c-.78.78-.78 2.05 0 2.83L4 21.41c.39.39.9.59 1.41.59.51 0 1.02-.2 1.41-.59l7.78-7.78 2.81-2.81c.8-.78.8-2.07 0-2.86zM5.41 20L4 18.59l7.72-7.72 1.47 1.35L5.41 20z\"/>\n",
              "  </svg>\n",
              "      </button>\n",
              "      \n",
              "  <style>\n",
              "    .colab-df-container {\n",
              "      display:flex;\n",
              "      flex-wrap:wrap;\n",
              "      gap: 12px;\n",
              "    }\n",
              "\n",
              "    .colab-df-convert {\n",
              "      background-color: #E8F0FE;\n",
              "      border: none;\n",
              "      border-radius: 50%;\n",
              "      cursor: pointer;\n",
              "      display: none;\n",
              "      fill: #1967D2;\n",
              "      height: 32px;\n",
              "      padding: 0 0 0 0;\n",
              "      width: 32px;\n",
              "    }\n",
              "\n",
              "    .colab-df-convert:hover {\n",
              "      background-color: #E2EBFA;\n",
              "      box-shadow: 0px 1px 2px rgba(60, 64, 67, 0.3), 0px 1px 3px 1px rgba(60, 64, 67, 0.15);\n",
              "      fill: #174EA6;\n",
              "    }\n",
              "\n",
              "    [theme=dark] .colab-df-convert {\n",
              "      background-color: #3B4455;\n",
              "      fill: #D2E3FC;\n",
              "    }\n",
              "\n",
              "    [theme=dark] .colab-df-convert:hover {\n",
              "      background-color: #434B5C;\n",
              "      box-shadow: 0px 1px 3px 1px rgba(0, 0, 0, 0.15);\n",
              "      filter: drop-shadow(0px 1px 2px rgba(0, 0, 0, 0.3));\n",
              "      fill: #FFFFFF;\n",
              "    }\n",
              "  </style>\n",
              "\n",
              "      <script>\n",
              "        const buttonEl =\n",
              "          document.querySelector('#df-e1988154-a98a-4b16-a026-720b9d240b27 button.colab-df-convert');\n",
              "        buttonEl.style.display =\n",
              "          google.colab.kernel.accessAllowed ? 'block' : 'none';\n",
              "\n",
              "        async function convertToInteractive(key) {\n",
              "          const element = document.querySelector('#df-e1988154-a98a-4b16-a026-720b9d240b27');\n",
              "          const dataTable =\n",
              "            await google.colab.kernel.invokeFunction('convertToInteractive',\n",
              "                                                     [key], {});\n",
              "          if (!dataTable) return;\n",
              "\n",
              "          const docLinkHtml = 'Like what you see? Visit the ' +\n",
              "            '<a target=\"_blank\" href=https://colab.research.google.com/notebooks/data_table.ipynb>data table notebook</a>'\n",
              "            + ' to learn more about interactive tables.';\n",
              "          element.innerHTML = '';\n",
              "          dataTable['output_type'] = 'display_data';\n",
              "          await google.colab.output.renderOutput(dataTable, element);\n",
              "          const docLink = document.createElement('div');\n",
              "          docLink.innerHTML = docLinkHtml;\n",
              "          element.appendChild(docLink);\n",
              "        }\n",
              "      </script>\n",
              "    </div>\n",
              "  </div>\n",
              "  "
            ]
          },
          "metadata": {},
          "execution_count": 28
        }
      ]
    },
    {
      "cell_type": "markdown",
      "source": [
        "#### LP-ROS (Label Powerset Random Oversampling)\n",
        "- The Label Powerset transformation method transforms the multilabel data into a multi-class dataset, processing each different combination of labels (label-set) as a class. In other words, label powerset approach converts a multilabel classification problem into a multiclass classification problem. \n",
        "- LP-ROS (Label Powerset Random Over Sampling) is a multi-label random oversampling method that works by cloning random samples of minority label-sets until the size of the multilabel data increases by the prespecified percentage.  \n",
        "- In this notebook, we set the number of minority labels to equal to the number of the majority label. \n",
        "- Reference: [Imbalanced Multilabel Scene Classification using Keras](https://medium.com/the-owl/imbalanced-multilabel-image-classification-using-keras-fbd8c60d7a4b) "
      ],
      "metadata": {
        "id": "ZfA5QwqbRbQR"
      }
    },
    {
      "cell_type": "code",
      "source": [
        "train_lpros = train.copy()"
      ],
      "metadata": {
        "id": "SVRg-sAPTxsc"
      },
      "execution_count": 29,
      "outputs": []
    },
    {
      "cell_type": "code",
      "source": [
        "powercount = {}\n",
        "powerlabels = np.unique(train['powerlabel'])\n",
        "for p in powerlabels:\n",
        "    powercount[p] = np.count_nonzero(train['powerlabel'] == p)\n",
        "\n",
        "maxcount = np.max(list(powercount.values()))\n",
        "for p in powerlabels:\n",
        "    gapnum = maxcount - powercount[p]\n",
        "    #print(gapnum)\n",
        "    temp_df = train.iloc[np.random.choice(np.where(train['powerlabel'] == p)[0], size = gapnum)]\n",
        "    train_lpros = train_lpros.append(temp_df, ignore_index=True)\n",
        "    \n",
        "#train_lpros = train.sample(frac = 1).reset_index(drop=True)"
      ],
      "metadata": {
        "id": "lDe5pUJWRc0e"
      },
      "execution_count": 30,
      "outputs": []
    },
    {
      "cell_type": "code",
      "source": [
        "train_lpros.shape"
      ],
      "metadata": {
        "colab": {
          "base_uri": "https://localhost:8080/"
        },
        "id": "FY95AQi7SxOa",
        "outputId": "f4802722-d932-4eed-9ea6-9daf79208150"
      },
      "execution_count": 31,
      "outputs": [
        {
          "output_type": "execute_result",
          "data": {
            "text/plain": [
              "(29414, 7)"
            ]
          },
          "metadata": {},
          "execution_count": 31
        }
      ]
    },
    {
      "cell_type": "code",
      "source": [
        "powercount_lpros = {}\n",
        "powerlabels = np.unique(train['powerlabel'])\n",
        "for p in powerlabels:\n",
        "    powercount_lpros[p] = np.count_nonzero(train_lpros['powerlabel'] == p)\n",
        "powercount_lpros"
      ],
      "metadata": {
        "colab": {
          "base_uri": "https://localhost:8080/"
        },
        "id": "oU2tdVOgWyXa",
        "outputId": "bed4d2b8-3c85-47c0-cc88-ad9bc80cf4a8"
      },
      "execution_count": 32,
      "outputs": [
        {
          "output_type": "execute_result",
          "data": {
            "text/plain": [
              "{1: 1337,\n",
              " 4: 1337,\n",
              " 5: 1337,\n",
              " 6: 1337,\n",
              " 7: 1337,\n",
              " 8: 1337,\n",
              " 9: 1337,\n",
              " 10: 1337,\n",
              " 11: 1337,\n",
              " 12: 1337,\n",
              " 13: 1337,\n",
              " 14: 1337,\n",
              " 15: 1337,\n",
              " 17: 1337,\n",
              " 20: 1337,\n",
              " 21: 1337,\n",
              " 24: 1337,\n",
              " 25: 1337,\n",
              " 28: 1337,\n",
              " 29: 1337,\n",
              " 30: 1337,\n",
              " 31: 1337}"
            ]
          },
          "metadata": {},
          "execution_count": 32
        }
      ]
    },
    {
      "cell_type": "markdown",
      "source": [
        "#### ML-ROS (Multilabel Random Oversampling)\n",
        "\n",
        "- ML-ROS is an approach based on the frequency of individual labels, instead of the full label-sets. \n",
        "- ML-ROS relies on IRLbl (imbalance ratio per label) and MeanIR (mean imbalance ratio) measures. Labels whose IRLbl is greater than MeanIR are considered to be minority labels, while labels whose IRLbl is smaller than MeanIR can be considered to be majority labels.\n",
        "- In the current notebook, we use the ML-ROS technique that uses IRLbl and MeanIR to identify majority and minority labels ([Charte, 2018](https://arxiv.org/pdf/1802.05031.pdf)). "
      ],
      "metadata": {
        "id": "yuewCsDK-ieK"
      }
    },
    {
      "cell_type": "code",
      "source": [
        "# calculate Mean IR and IRLbl\n",
        "def IRLbl(labels):\n",
        "  \"\"\"Takes a 2d array of labels and returns a list of the imbalance ratio per label. \n",
        "  imbalance ratio per label: (the number of instances of majority label) / (the number of instances of a specific label)\n",
        "\n",
        "  Input:\n",
        "    labels: a 2d numpy array. Each row is one instance, each column is one class; the array contains (0, 1) only\n",
        "\n",
        "  Returns:\n",
        "    irlbl: imbalance ratio for each label \n",
        "  \"\"\"\n",
        "  N, C = labels.shape\n",
        "  pos_nums_per_label = np.sum(labels, axis = 0)\n",
        "  max_pos_nums = np.max(pos_nums_per_label)\n",
        "  return max_pos_nums / pos_nums_per_label\n",
        "\n",
        "def MeanIR(labels):\n",
        "  \"\"\"Takes a 2d array of labels and returns the mean of imbalance ratios. \n",
        "  Input:\n",
        "    labels: a 2d numpy array. Each row is one instance, each column is one class; the array contains (0, 1) only\n",
        "\n",
        "  Returns: \n",
        "    mean of imbalance ratios: integer \n",
        "  \"\"\"\n",
        "  IRLbl_VALUE = IRLbl(labels)\n",
        "  return np.mean(IRLbl_VALUE)"
      ],
      "metadata": {
        "id": "Ih3CtZUb_M7y"
      },
      "execution_count": 33,
      "outputs": []
    },
    {
      "cell_type": "code",
      "source": [
        "import random\n",
        "\n",
        "def ML_ROS(df, labels, max_clone_percentage=50):\n",
        "  \"\"\"\n",
        "  Algorithm: https://arxiv.org/pdf/1802.05031.pdf\n",
        "  Reference: https://github.com/Bupenieks/ImbalancedMLC/blob/master/dataset_metrics.ipynb  \n",
        "  \"\"\"\n",
        "  # N of samples to clone, obtain the set of labels\n",
        "  labels_df = df[labels]\n",
        "  N, C = labels_df.shape\n",
        "  num_samples_to_clone = N / 100 * max_clone_percentage\n",
        "  print('Number of samples to clone:', num_samples_to_clone)\n",
        "\n",
        "  # for each label, add samples to the minority bag if the IRLbl < MeanIR\n",
        "  minority_classes = []\n",
        "  MeanIR_value = MeanIR(labels_df)\n",
        "  IRLbl_value = IRLbl(labels_df)\n",
        "\n",
        "  df_idx = df.index\n",
        "  map = {}\n",
        "  for l in labels:\n",
        "    l_indices = df_idx[df[l] == 1].tolist()\n",
        "    map[l] = l_indices\n",
        "    min_bags = {l:ins for l, ins in map.items() if IRLbl_value[l] > MeanIR_value}\n",
        "  print('Minority label:', min_bags.keys())\n",
        "\n",
        "  # Clone a random sample from each minority bag\n",
        "  new_df = df\n",
        "  while num_samples_to_clone > 0:\n",
        "    for l in min_bags:\n",
        "      instance_to_clone = random.choice(min_bags[l])\n",
        "      new_df = new_df.append(df.iloc[instance_to_clone])\n",
        "      new_IRs = IRLbl(new_df[labels])\n",
        "      new_IR_l = new_IRs[l]\n",
        "\n",
        "    if new_IR_l <= MeanIR_value:\n",
        "      # Exclude from cloning\n",
        "      del min_bags[l]\n",
        "                        \n",
        "    num_samples_to_clone -= 1\n",
        "\n",
        "    if len(min_bags.keys()) == 0:\n",
        "      print(\"Unable to clone all samples. {} left to clone\".format(num_samples_to_clone))\n",
        "      break\n",
        "\n",
        "  return new_df"
      ],
      "metadata": {
        "id": "1oWTe0n3HwYd"
      },
      "execution_count": 34,
      "outputs": []
    },
    {
      "cell_type": "code",
      "source": [
        "labels = ['cs.CV',\t'cs.LG',\t'stat.ML',\t'cs.AI',\t'eess.IV']\n",
        "train_mlros = ML_ROS(train, labels)"
      ],
      "metadata": {
        "colab": {
          "base_uri": "https://localhost:8080/"
        },
        "id": "PtNeSRK9T3lv",
        "outputId": "2147ac82-b5cb-4fab-c458-4d7940b5515b"
      },
      "execution_count": 35,
      "outputs": [
        {
          "output_type": "stream",
          "name": "stdout",
          "text": [
            "Number of samples to clone: 1750.0\n",
            "Minority label: dict_keys(['cs.AI'])\n",
            "Unable to clone all samples. 1322.0 left to clone\n"
          ]
        }
      ]
    },
    {
      "cell_type": "code",
      "source": [
        "train_mlros.shape"
      ],
      "metadata": {
        "colab": {
          "base_uri": "https://localhost:8080/"
        },
        "id": "kB8gOnX7c4Ah",
        "outputId": "f1b96803-5274-4dfe-8ec1-20e48db95190"
      },
      "execution_count": 36,
      "outputs": [
        {
          "output_type": "execute_result",
          "data": {
            "text/plain": [
              "(3928, 7)"
            ]
          },
          "metadata": {},
          "execution_count": 36
        }
      ]
    },
    {
      "cell_type": "code",
      "source": [
        "print(MeanIR(train[labels]))\n",
        "IRLbl(train[labels])"
      ],
      "metadata": {
        "colab": {
          "base_uri": "https://localhost:8080/"
        },
        "id": "UOez-mrolRxs",
        "outputId": "59bf5074-41de-40c1-e961-35f7a445d04b"
      },
      "execution_count": 37,
      "outputs": [
        {
          "output_type": "stream",
          "name": "stdout",
          "text": [
            "4.139988862143587\n"
          ]
        },
        {
          "output_type": "execute_result",
          "data": {
            "text/plain": [
              "cs.CV       3.875486\n",
              "cs.LG       1.000000\n",
              "stat.ML     1.000502\n",
              "cs.AI      13.019608\n",
              "eess.IV     1.804348\n",
              "dtype: float64"
            ]
          },
          "metadata": {},
          "execution_count": 37
        }
      ]
    },
    {
      "cell_type": "code",
      "source": [
        "print(MeanIR(train_mlros[labels]))\n",
        "IRLbl(train_mlros[labels])"
      ],
      "metadata": {
        "colab": {
          "base_uri": "https://localhost:8080/"
        },
        "id": "hu5hhe5AlNtb",
        "outputId": "4ca32a50-876e-45fa-e766-c704b135118a"
      },
      "execution_count": 38,
      "outputs": [
        {
          "output_type": "stream",
          "name": "stdout",
          "text": [
            "2.574434639427914\n"
          ]
        },
        {
          "output_type": "execute_result",
          "data": {
            "text/plain": [
              "cs.CV      4.570342\n",
              "cs.LG      1.000000\n",
              "stat.ML    1.060900\n",
              "cs.AI      4.137694\n",
              "eess.IV    2.103237\n",
              "dtype: float64"
            ]
          },
          "metadata": {},
          "execution_count": 38
        }
      ]
    },
    {
      "cell_type": "code",
      "source": [
        "train_lpros.head()"
      ],
      "metadata": {
        "colab": {
          "base_uri": "https://localhost:8080/",
          "height": 206
        },
        "id": "S7WcUde8lulP",
        "outputId": "99abe0c8-fdb9-47fa-d948-abd20e07e824"
      },
      "execution_count": 39,
      "outputs": [
        {
          "output_type": "execute_result",
          "data": {
            "text/plain": [
              "                                                text  cs.CV  cs.LG  stat.ML  \\\n",
              "0  Today deep convolutional neural networks (CNNs...      0      1        0   \n",
              "1  In the paper, we propose a class of efficient ...      0      0        1   \n",
              "2  The generative adversarial network (GAN) exhib...      0      1        1   \n",
              "3  Though convolutional neural networks are widel...      1      1        0   \n",
              "4  In recent years, advances in the development o...      0      1        0   \n",
              "\n",
              "   cs.AI  eess.IV  powerlabel  \n",
              "0      0        0           8  \n",
              "1      0        1           5  \n",
              "2      1        0          14  \n",
              "3      0        0          24  \n",
              "4      0        0           8  "
            ],
            "text/html": [
              "\n",
              "  <div id=\"df-3c0a9b93-6a56-4812-a9a1-7e0c72aa03b6\">\n",
              "    <div class=\"colab-df-container\">\n",
              "      <div>\n",
              "<style scoped>\n",
              "    .dataframe tbody tr th:only-of-type {\n",
              "        vertical-align: middle;\n",
              "    }\n",
              "\n",
              "    .dataframe tbody tr th {\n",
              "        vertical-align: top;\n",
              "    }\n",
              "\n",
              "    .dataframe thead th {\n",
              "        text-align: right;\n",
              "    }\n",
              "</style>\n",
              "<table border=\"1\" class=\"dataframe\">\n",
              "  <thead>\n",
              "    <tr style=\"text-align: right;\">\n",
              "      <th></th>\n",
              "      <th>text</th>\n",
              "      <th>cs.CV</th>\n",
              "      <th>cs.LG</th>\n",
              "      <th>stat.ML</th>\n",
              "      <th>cs.AI</th>\n",
              "      <th>eess.IV</th>\n",
              "      <th>powerlabel</th>\n",
              "    </tr>\n",
              "  </thead>\n",
              "  <tbody>\n",
              "    <tr>\n",
              "      <th>0</th>\n",
              "      <td>Today deep convolutional neural networks (CNNs...</td>\n",
              "      <td>0</td>\n",
              "      <td>1</td>\n",
              "      <td>0</td>\n",
              "      <td>0</td>\n",
              "      <td>0</td>\n",
              "      <td>8</td>\n",
              "    </tr>\n",
              "    <tr>\n",
              "      <th>1</th>\n",
              "      <td>In the paper, we propose a class of efficient ...</td>\n",
              "      <td>0</td>\n",
              "      <td>0</td>\n",
              "      <td>1</td>\n",
              "      <td>0</td>\n",
              "      <td>1</td>\n",
              "      <td>5</td>\n",
              "    </tr>\n",
              "    <tr>\n",
              "      <th>2</th>\n",
              "      <td>The generative adversarial network (GAN) exhib...</td>\n",
              "      <td>0</td>\n",
              "      <td>1</td>\n",
              "      <td>1</td>\n",
              "      <td>1</td>\n",
              "      <td>0</td>\n",
              "      <td>14</td>\n",
              "    </tr>\n",
              "    <tr>\n",
              "      <th>3</th>\n",
              "      <td>Though convolutional neural networks are widel...</td>\n",
              "      <td>1</td>\n",
              "      <td>1</td>\n",
              "      <td>0</td>\n",
              "      <td>0</td>\n",
              "      <td>0</td>\n",
              "      <td>24</td>\n",
              "    </tr>\n",
              "    <tr>\n",
              "      <th>4</th>\n",
              "      <td>In recent years, advances in the development o...</td>\n",
              "      <td>0</td>\n",
              "      <td>1</td>\n",
              "      <td>0</td>\n",
              "      <td>0</td>\n",
              "      <td>0</td>\n",
              "      <td>8</td>\n",
              "    </tr>\n",
              "  </tbody>\n",
              "</table>\n",
              "</div>\n",
              "      <button class=\"colab-df-convert\" onclick=\"convertToInteractive('df-3c0a9b93-6a56-4812-a9a1-7e0c72aa03b6')\"\n",
              "              title=\"Convert this dataframe to an interactive table.\"\n",
              "              style=\"display:none;\">\n",
              "        \n",
              "  <svg xmlns=\"http://www.w3.org/2000/svg\" height=\"24px\"viewBox=\"0 0 24 24\"\n",
              "       width=\"24px\">\n",
              "    <path d=\"M0 0h24v24H0V0z\" fill=\"none\"/>\n",
              "    <path d=\"M18.56 5.44l.94 2.06.94-2.06 2.06-.94-2.06-.94-.94-2.06-.94 2.06-2.06.94zm-11 1L8.5 8.5l.94-2.06 2.06-.94-2.06-.94L8.5 2.5l-.94 2.06-2.06.94zm10 10l.94 2.06.94-2.06 2.06-.94-2.06-.94-.94-2.06-.94 2.06-2.06.94z\"/><path d=\"M17.41 7.96l-1.37-1.37c-.4-.4-.92-.59-1.43-.59-.52 0-1.04.2-1.43.59L10.3 9.45l-7.72 7.72c-.78.78-.78 2.05 0 2.83L4 21.41c.39.39.9.59 1.41.59.51 0 1.02-.2 1.41-.59l7.78-7.78 2.81-2.81c.8-.78.8-2.07 0-2.86zM5.41 20L4 18.59l7.72-7.72 1.47 1.35L5.41 20z\"/>\n",
              "  </svg>\n",
              "      </button>\n",
              "      \n",
              "  <style>\n",
              "    .colab-df-container {\n",
              "      display:flex;\n",
              "      flex-wrap:wrap;\n",
              "      gap: 12px;\n",
              "    }\n",
              "\n",
              "    .colab-df-convert {\n",
              "      background-color: #E8F0FE;\n",
              "      border: none;\n",
              "      border-radius: 50%;\n",
              "      cursor: pointer;\n",
              "      display: none;\n",
              "      fill: #1967D2;\n",
              "      height: 32px;\n",
              "      padding: 0 0 0 0;\n",
              "      width: 32px;\n",
              "    }\n",
              "\n",
              "    .colab-df-convert:hover {\n",
              "      background-color: #E2EBFA;\n",
              "      box-shadow: 0px 1px 2px rgba(60, 64, 67, 0.3), 0px 1px 3px 1px rgba(60, 64, 67, 0.15);\n",
              "      fill: #174EA6;\n",
              "    }\n",
              "\n",
              "    [theme=dark] .colab-df-convert {\n",
              "      background-color: #3B4455;\n",
              "      fill: #D2E3FC;\n",
              "    }\n",
              "\n",
              "    [theme=dark] .colab-df-convert:hover {\n",
              "      background-color: #434B5C;\n",
              "      box-shadow: 0px 1px 3px 1px rgba(0, 0, 0, 0.15);\n",
              "      filter: drop-shadow(0px 1px 2px rgba(0, 0, 0, 0.3));\n",
              "      fill: #FFFFFF;\n",
              "    }\n",
              "  </style>\n",
              "\n",
              "      <script>\n",
              "        const buttonEl =\n",
              "          document.querySelector('#df-3c0a9b93-6a56-4812-a9a1-7e0c72aa03b6 button.colab-df-convert');\n",
              "        buttonEl.style.display =\n",
              "          google.colab.kernel.accessAllowed ? 'block' : 'none';\n",
              "\n",
              "        async function convertToInteractive(key) {\n",
              "          const element = document.querySelector('#df-3c0a9b93-6a56-4812-a9a1-7e0c72aa03b6');\n",
              "          const dataTable =\n",
              "            await google.colab.kernel.invokeFunction('convertToInteractive',\n",
              "                                                     [key], {});\n",
              "          if (!dataTable) return;\n",
              "\n",
              "          const docLinkHtml = 'Like what you see? Visit the ' +\n",
              "            '<a target=\"_blank\" href=https://colab.research.google.com/notebooks/data_table.ipynb>data table notebook</a>'\n",
              "            + ' to learn more about interactive tables.';\n",
              "          element.innerHTML = '';\n",
              "          dataTable['output_type'] = 'display_data';\n",
              "          await google.colab.output.renderOutput(dataTable, element);\n",
              "          const docLink = document.createElement('div');\n",
              "          docLink.innerHTML = docLinkHtml;\n",
              "          element.appendChild(docLink);\n",
              "        }\n",
              "      </script>\n",
              "    </div>\n",
              "  </div>\n",
              "  "
            ]
          },
          "metadata": {},
          "execution_count": 39
        }
      ]
    },
    {
      "cell_type": "code",
      "source": [
        "train_mlros.head()"
      ],
      "metadata": {
        "colab": {
          "base_uri": "https://localhost:8080/",
          "height": 206
        },
        "id": "dXTud62elxk6",
        "outputId": "b4337b5b-fb36-48e1-e198-f55ccc2bbdf8"
      },
      "execution_count": 40,
      "outputs": [
        {
          "output_type": "execute_result",
          "data": {
            "text/plain": [
              "                                                text  cs.CV  cs.LG  stat.ML  \\\n",
              "0  Today deep convolutional neural networks (CNNs...      0      1        0   \n",
              "1  In the paper, we propose a class of efficient ...      0      0        1   \n",
              "2  The generative adversarial network (GAN) exhib...      0      1        1   \n",
              "3  Though convolutional neural networks are widel...      1      1        0   \n",
              "4  In recent years, advances in the development o...      0      1        0   \n",
              "\n",
              "   cs.AI  eess.IV  powerlabel  \n",
              "0      0        0           8  \n",
              "1      0        1           5  \n",
              "2      1        0          14  \n",
              "3      0        0          24  \n",
              "4      0        0           8  "
            ],
            "text/html": [
              "\n",
              "  <div id=\"df-0a02232b-4bb1-4ce9-a518-c816821a415a\">\n",
              "    <div class=\"colab-df-container\">\n",
              "      <div>\n",
              "<style scoped>\n",
              "    .dataframe tbody tr th:only-of-type {\n",
              "        vertical-align: middle;\n",
              "    }\n",
              "\n",
              "    .dataframe tbody tr th {\n",
              "        vertical-align: top;\n",
              "    }\n",
              "\n",
              "    .dataframe thead th {\n",
              "        text-align: right;\n",
              "    }\n",
              "</style>\n",
              "<table border=\"1\" class=\"dataframe\">\n",
              "  <thead>\n",
              "    <tr style=\"text-align: right;\">\n",
              "      <th></th>\n",
              "      <th>text</th>\n",
              "      <th>cs.CV</th>\n",
              "      <th>cs.LG</th>\n",
              "      <th>stat.ML</th>\n",
              "      <th>cs.AI</th>\n",
              "      <th>eess.IV</th>\n",
              "      <th>powerlabel</th>\n",
              "    </tr>\n",
              "  </thead>\n",
              "  <tbody>\n",
              "    <tr>\n",
              "      <th>0</th>\n",
              "      <td>Today deep convolutional neural networks (CNNs...</td>\n",
              "      <td>0</td>\n",
              "      <td>1</td>\n",
              "      <td>0</td>\n",
              "      <td>0</td>\n",
              "      <td>0</td>\n",
              "      <td>8</td>\n",
              "    </tr>\n",
              "    <tr>\n",
              "      <th>1</th>\n",
              "      <td>In the paper, we propose a class of efficient ...</td>\n",
              "      <td>0</td>\n",
              "      <td>0</td>\n",
              "      <td>1</td>\n",
              "      <td>0</td>\n",
              "      <td>1</td>\n",
              "      <td>5</td>\n",
              "    </tr>\n",
              "    <tr>\n",
              "      <th>2</th>\n",
              "      <td>The generative adversarial network (GAN) exhib...</td>\n",
              "      <td>0</td>\n",
              "      <td>1</td>\n",
              "      <td>1</td>\n",
              "      <td>1</td>\n",
              "      <td>0</td>\n",
              "      <td>14</td>\n",
              "    </tr>\n",
              "    <tr>\n",
              "      <th>3</th>\n",
              "      <td>Though convolutional neural networks are widel...</td>\n",
              "      <td>1</td>\n",
              "      <td>1</td>\n",
              "      <td>0</td>\n",
              "      <td>0</td>\n",
              "      <td>0</td>\n",
              "      <td>24</td>\n",
              "    </tr>\n",
              "    <tr>\n",
              "      <th>4</th>\n",
              "      <td>In recent years, advances in the development o...</td>\n",
              "      <td>0</td>\n",
              "      <td>1</td>\n",
              "      <td>0</td>\n",
              "      <td>0</td>\n",
              "      <td>0</td>\n",
              "      <td>8</td>\n",
              "    </tr>\n",
              "  </tbody>\n",
              "</table>\n",
              "</div>\n",
              "      <button class=\"colab-df-convert\" onclick=\"convertToInteractive('df-0a02232b-4bb1-4ce9-a518-c816821a415a')\"\n",
              "              title=\"Convert this dataframe to an interactive table.\"\n",
              "              style=\"display:none;\">\n",
              "        \n",
              "  <svg xmlns=\"http://www.w3.org/2000/svg\" height=\"24px\"viewBox=\"0 0 24 24\"\n",
              "       width=\"24px\">\n",
              "    <path d=\"M0 0h24v24H0V0z\" fill=\"none\"/>\n",
              "    <path d=\"M18.56 5.44l.94 2.06.94-2.06 2.06-.94-2.06-.94-.94-2.06-.94 2.06-2.06.94zm-11 1L8.5 8.5l.94-2.06 2.06-.94-2.06-.94L8.5 2.5l-.94 2.06-2.06.94zm10 10l.94 2.06.94-2.06 2.06-.94-2.06-.94-.94-2.06-.94 2.06-2.06.94z\"/><path d=\"M17.41 7.96l-1.37-1.37c-.4-.4-.92-.59-1.43-.59-.52 0-1.04.2-1.43.59L10.3 9.45l-7.72 7.72c-.78.78-.78 2.05 0 2.83L4 21.41c.39.39.9.59 1.41.59.51 0 1.02-.2 1.41-.59l7.78-7.78 2.81-2.81c.8-.78.8-2.07 0-2.86zM5.41 20L4 18.59l7.72-7.72 1.47 1.35L5.41 20z\"/>\n",
              "  </svg>\n",
              "      </button>\n",
              "      \n",
              "  <style>\n",
              "    .colab-df-container {\n",
              "      display:flex;\n",
              "      flex-wrap:wrap;\n",
              "      gap: 12px;\n",
              "    }\n",
              "\n",
              "    .colab-df-convert {\n",
              "      background-color: #E8F0FE;\n",
              "      border: none;\n",
              "      border-radius: 50%;\n",
              "      cursor: pointer;\n",
              "      display: none;\n",
              "      fill: #1967D2;\n",
              "      height: 32px;\n",
              "      padding: 0 0 0 0;\n",
              "      width: 32px;\n",
              "    }\n",
              "\n",
              "    .colab-df-convert:hover {\n",
              "      background-color: #E2EBFA;\n",
              "      box-shadow: 0px 1px 2px rgba(60, 64, 67, 0.3), 0px 1px 3px 1px rgba(60, 64, 67, 0.15);\n",
              "      fill: #174EA6;\n",
              "    }\n",
              "\n",
              "    [theme=dark] .colab-df-convert {\n",
              "      background-color: #3B4455;\n",
              "      fill: #D2E3FC;\n",
              "    }\n",
              "\n",
              "    [theme=dark] .colab-df-convert:hover {\n",
              "      background-color: #434B5C;\n",
              "      box-shadow: 0px 1px 3px 1px rgba(0, 0, 0, 0.15);\n",
              "      filter: drop-shadow(0px 1px 2px rgba(0, 0, 0, 0.3));\n",
              "      fill: #FFFFFF;\n",
              "    }\n",
              "  </style>\n",
              "\n",
              "      <script>\n",
              "        const buttonEl =\n",
              "          document.querySelector('#df-0a02232b-4bb1-4ce9-a518-c816821a415a button.colab-df-convert');\n",
              "        buttonEl.style.display =\n",
              "          google.colab.kernel.accessAllowed ? 'block' : 'none';\n",
              "\n",
              "        async function convertToInteractive(key) {\n",
              "          const element = document.querySelector('#df-0a02232b-4bb1-4ce9-a518-c816821a415a');\n",
              "          const dataTable =\n",
              "            await google.colab.kernel.invokeFunction('convertToInteractive',\n",
              "                                                     [key], {});\n",
              "          if (!dataTable) return;\n",
              "\n",
              "          const docLinkHtml = 'Like what you see? Visit the ' +\n",
              "            '<a target=\"_blank\" href=https://colab.research.google.com/notebooks/data_table.ipynb>data table notebook</a>'\n",
              "            + ' to learn more about interactive tables.';\n",
              "          element.innerHTML = '';\n",
              "          dataTable['output_type'] = 'display_data';\n",
              "          await google.colab.output.renderOutput(dataTable, element);\n",
              "          const docLink = document.createElement('div');\n",
              "          docLink.innerHTML = docLinkHtml;\n",
              "          element.appendChild(docLink);\n",
              "        }\n",
              "      </script>\n",
              "    </div>\n",
              "  </div>\n",
              "  "
            ]
          },
          "metadata": {},
          "execution_count": 40
        }
      ]
    },
    {
      "cell_type": "markdown",
      "source": [
        "#### Embeddings: BERT"
      ],
      "metadata": {
        "id": "7UJNt1-SCLKd"
      }
    },
    {
      "cell_type": "code",
      "source": [
        "# Generate embeddings\n",
        "model = SentenceTransformer('multi-qa-distilbert-dot-v1')\n",
        "def bert_embeddings(col):\n",
        "  sentences = list(col)\n",
        "  sentence_embeddings = model.encode(sentences)\n",
        "  sentence_embeddings_df = pd.DataFrame(sentence_embeddings)\n",
        "  return sentence_embeddings_df"
      ],
      "metadata": {
        "id": "on8K6baGr_Ti"
      },
      "execution_count": 41,
      "outputs": []
    },
    {
      "cell_type": "code",
      "source": [
        "X_train_mlros = bert_embeddings(train_mlros['text'])\n",
        "y_train_mlros = train_mlros[labels]"
      ],
      "metadata": {
        "id": "ErK1kvhuncl7"
      },
      "execution_count": 42,
      "outputs": []
    },
    {
      "cell_type": "code",
      "source": [
        "X_train_lpros = bert_embeddings(train_lpros['text'])\n",
        "y_train_lpros = train_lpros[labels]"
      ],
      "metadata": {
        "id": "KcGnZzCOqMg3"
      },
      "execution_count": 43,
      "outputs": []
    },
    {
      "cell_type": "code",
      "source": [
        "X_train = bert_embeddings(train['text'])\n",
        "y_train = train[labels]"
      ],
      "metadata": {
        "id": "YSUOJgsFpN--"
      },
      "execution_count": 44,
      "outputs": []
    },
    {
      "cell_type": "code",
      "source": [
        "X_test = bert_embeddings(test['text'])\n",
        "y_test = test[labels]"
      ],
      "metadata": {
        "id": "J42I0ohSmz1G"
      },
      "execution_count": 45,
      "outputs": []
    },
    {
      "cell_type": "markdown",
      "source": [
        "### Model\n",
        "- Binary Relevance\n",
        "- Classifier Chain\n",
        "- [Multilabel K-Nearest Neighbors](http://scikit.ml/api/skmultilearn.adapt.mlknn.html): \"uses k-NearestNeighbors find nearest examples to a test class and uses Bayesian inference to select assigned labels.\"\n",
        "\n"
      ],
      "metadata": {
        "id": "KzCUFunEjbku"
      }
    },
    {
      "cell_type": "markdown",
      "source": [
        "### Classifier Chain"
      ],
      "metadata": {
        "id": "MfssW72u3DEK"
      }
    },
    {
      "cell_type": "code",
      "source": [
        "def cc_lr_fit(X_train, y_train, X_test):\n",
        "  # initialize classifier chains multi-label classifier\n",
        "  classifier = ClassifierChain(LogisticRegression())\n",
        "\n",
        "  # Training logistic regression model on train data\n",
        "  classifier.fit(X_train, y_train)\n",
        "\n",
        "  # predict\n",
        "  predictions = classifier.predict(X_test)\n",
        "  y_pred = pd.DataFrame.sparse.from_spmatrix(predictions)\n",
        "\n",
        "  return classifier, y_pred"
      ],
      "metadata": {
        "id": "gdpuufCD1V5W"
      },
      "execution_count": 46,
      "outputs": []
    },
    {
      "cell_type": "code",
      "source": [
        "# using classifier chain + naive bayes\n",
        "def cc_nb_fit(X_train, y_train, X_test):\n",
        "  # initialize classifier chains multi-label classifier\n",
        "  classifier = ClassifierChain(GaussianNB())\n",
        "\n",
        "  # Training logistic regression model on train data\n",
        "  classifier.fit(X_train, y_train)\n",
        "\n",
        "  # predict\n",
        "  predictions = classifier.predict(X_test)\n",
        "  y_pred = pd.DataFrame.sparse.from_spmatrix(predictions)\n",
        "\n",
        "  return classifier, y_pred"
      ],
      "metadata": {
        "id": "-C7YKhW81tkU"
      },
      "execution_count": 47,
      "outputs": []
    },
    {
      "cell_type": "markdown",
      "source": [
        "### Binary Relevance"
      ],
      "metadata": {
        "id": "XIly3aG63IPQ"
      }
    },
    {
      "cell_type": "code",
      "source": [
        "# using binary relevance\n",
        "from skmultilearn.problem_transform import BinaryRelevance\n",
        "from sklearn.naive_bayes import GaussianNB\n",
        "\n",
        "def br_nb_fit(X_train, y_train, X_test):\n",
        "  # initialize classifier chains multi-label classifier\n",
        "  classifier = BinaryRelevance(GaussianNB())\n",
        "\n",
        "  # Training logistic regression model on train data\n",
        "  classifier.fit(X_train, y_train)\n",
        "\n",
        "  # predict\n",
        "  predictions = classifier.predict(X_test)\n",
        "  y_pred = pd.DataFrame.sparse.from_spmatrix(predictions)\n",
        "\n",
        "  return classifier, y_pred"
      ],
      "metadata": {
        "id": "FXHAAyFsrBvZ"
      },
      "execution_count": 48,
      "outputs": []
    },
    {
      "cell_type": "code",
      "source": [
        "# using binary relevance + logistic regression\n",
        "def br_lr_fit(X_train, y_train, X_test):\n",
        "  # initialize classifier chains multi-label classifier\n",
        "  classifier = BinaryRelevance(LogisticRegression())\n",
        "\n",
        "  # Training logistic regression model on train data\n",
        "  classifier.fit(X_train, y_train)\n",
        "\n",
        "  # predict\n",
        "  predictions = classifier.predict(X_test)\n",
        "  y_pred = pd.DataFrame.sparse.from_spmatrix(predictions)\n",
        "\n",
        "  return classifier, y_pred"
      ],
      "metadata": {
        "id": "HpisL_421mZg"
      },
      "execution_count": 49,
      "outputs": []
    },
    {
      "cell_type": "markdown",
      "source": [
        "### KNN"
      ],
      "metadata": {
        "id": "Pll7RIl93L6E"
      }
    },
    {
      "cell_type": "code",
      "source": [
        "# KNN\n",
        "\n",
        "\n",
        "from skmultilearn.adapt import MLkNN\n",
        "from sklearn.model_selection import GridSearchCV\n",
        "\n",
        "def mlknn_fit(X_train, y_train, X_test, k, score):\n",
        "  \"\"\"\n",
        "  Returns:\n",
        "    classifier: a fitted KNN classifier\n",
        "    y_pred: predictions \n",
        "\n",
        "  Error:\n",
        "    for \"TypeError: __init__() takes 1 positional argument but 2 were given\", install the old version of sklearn\n",
        "    !pip uninstall scikit-learn -y\n",
        "    !pip install scikit-learn==0.24.1\n",
        "  \"\"\"\n",
        "  # initialize classifier chains multi-label classifier\n",
        "  classifier = MLkNN(k)\n",
        "\n",
        "  # Training logistic regression model on train data\n",
        "  classifier.fit(X_train, y_train)\n",
        "\n",
        "  # predict\n",
        "  predictions = classifier.predict(X_test)\n",
        "  y_pred = pd.DataFrame.sparse.from_spmatrix(predictions)\n",
        "\n",
        "  return classifier, y_pred"
      ],
      "metadata": {
        "id": "l9gz3fS_sz6W"
      },
      "execution_count": 57,
      "outputs": []
    },
    {
      "cell_type": "markdown",
      "source": [
        "### Fitting"
      ],
      "metadata": {
        "id": "PdjFXhTX8dWa"
      }
    },
    {
      "cell_type": "code",
      "source": [
        "cc_lr_raw, y_pred_cc_lr_raw = cc_lr_fit(X_train, y_train, X_test)\n",
        "cc_nb_raw, y_pred_cc_nb_raw = cc_nb_fit(X_train, y_train, X_test)\n",
        "br_lr_raw, y_pred_br_lr_raw = br_lr_fit(X_train, y_train, X_test)\n",
        "br_nb_raw, y_pred_br_nb_raw = br_nb_fit(X_train, y_train, X_test)"
      ],
      "metadata": {
        "id": "-LlxqcZm2mMf"
      },
      "execution_count": 51,
      "outputs": []
    },
    {
      "cell_type": "code",
      "source": [
        "cc_lr_mlros, y_pred_cc_lr_mlros = cc_lr_fit(X_train_mlros, y_train_mlros, X_test)\n",
        "cc_nb_mlros, y_pred_cc_nb_mlros = cc_nb_fit(X_train_mlros, y_train_mlros, X_test)\n",
        "br_lr_mlros, y_pred_br_lr_mlros = br_lr_fit(X_train_mlros, y_train_mlros, X_test)\n",
        "br_nb_mlros, y_pred_br_nb_mlros = br_nb_fit(X_train_mlros, y_train_mlros, X_test)"
      ],
      "metadata": {
        "id": "EkfhUa1L2An2"
      },
      "execution_count": 52,
      "outputs": []
    },
    {
      "cell_type": "code",
      "source": [
        "cc_lr_lpros, y_pred_cc_lr_lpros = cc_lr_fit(X_train_lpros, y_train_lpros, X_test)\n",
        "cc_nb_lpros, y_pred_cc_nb_lpros = cc_nb_fit(X_train_lpros, y_train_lpros, X_test)\n",
        "br_lr_lpros, y_pred_br_lr_lpros = br_lr_fit(X_train_lpros, y_train_lpros, X_test)\n",
        "br_nb_lpros, y_pred_br_nb_lpros = br_nb_fit(X_train_lpros, y_train_lpros, X_test)"
      ],
      "metadata": {
        "id": "sCyE7mNr229S"
      },
      "execution_count": 53,
      "outputs": []
    },
    {
      "cell_type": "code",
      "source": [
        "# To use the mlknn package, the dataset should be converted to a sparse matrix.\n",
        "X_train_sparse = scipy.sparse.csr_matrix(X_train.values)\n",
        "y_train_sparse = scipy.sparse.csr_matrix(y_train.values)\n",
        "X_train_mlros_sparse = scipy.sparse.csr_matrix(X_train_mlros.values)\n",
        "y_train_mlros_sparse = scipy.sparse.csr_matrix(y_train_mlros.values)\n",
        "X_train_lpros_sparse = scipy.sparse.csr_matrix(X_train_lpros.values)\n",
        "y_train_lpros_sparse = scipy.sparse.csr_matrix(y_train_lpros.values)"
      ],
      "metadata": {
        "id": "VxI6f6L93SEB"
      },
      "execution_count": 54,
      "outputs": []
    },
    {
      "cell_type": "code",
      "source": [
        "score = 'f1_macro'\n",
        "k = 5\n",
        "mlknn_raw, y_pred_mlknn_raw = mlknn_fit(X_train_sparse, y_train_sparse, X_test, k, score)\n",
        "mlknn_mlros, y_pred_mlknn_mlros = mlknn_fit(X_train_mlros_sparse, y_train_mlros_sparse, X_test, k, score)\n",
        "mlknn_lpros, y_pred_mlknn_lpros = mlknn_fit(X_train_lpros_sparse, y_train_lpros_sparse, X_test, k, score)"
      ],
      "metadata": {
        "id": "wxwIdIuNtFKl"
      },
      "execution_count": 59,
      "outputs": []
    },
    {
      "cell_type": "markdown",
      "source": [
        "## Compare Results \n",
        "- Evaluation metrics for classification problem\n",
        "  - Accuracy: number of correct predictions / total predictions. The accuracy could be misleading when the dataset is not balanced. For example, if there are four positives and one negative, the model that predicts all samples to be positive achieves 80% accuracy. \n",
        "  - Precision: true positives divided by the number of samples that were predicted to be positive. TP / (TP + FP)\n",
        "  - Recall: true positives divided by true positives + false negatives. TP / (TP + FN)\n",
        "  - The F1 score is the harmonic mean of the precision and recall. 2*(precision *  recall) / (precision + recall). \n",
        "  - Macro average: simple average of all classes. For example, if there are three classes, the macro average for precision is the average of precision of class A, precision of class B, and precision of class C.  \n",
        "  - Micro average: this is calculated by considering all true positives, false positives, and false negatives. For example, the micro average for precision is: sum of true positives (across three classes) / sum of true positives + sum of false positives \n",
        "  - Weighted average: average of the metric values weighted by the support of that class. For example: Precision of class A * Support of class A + Precision of class B * Support of class B / (Support of class A + Support of class B) \n",
        "  - [Hamming Loss](https://medium.datadriveninvestor.com/a-survey-of-evaluation-metrics-for-multilabel-classification-bb16e8cd41cd): computes the proportion of incorrectly predicted labels to the total number of labels. For a multilabel classification, we compute the number of False Positives and False Negative per instance and then average it over the total number of training instances. $\\frac{1}{|N|*|L|}\\sum_{i=1}^N \\sum_{j=1}^L xor(y_{i,j}, z_{i,j})$. Where N is the number of samples, L is the number of classes, $y_{ij}$ is the true label, $z_{ij}$ is the predicted label, and xor is the operator that returns zero if the prediction and the true label are the same. The optimal value for the hamming loss is zero.   \n",
        "\n"
      ],
      "metadata": {
        "id": "KV1Ii6Zo34SR"
      }
    },
    {
      "cell_type": "code",
      "source": [
        "def results(y_test, y_pred, labels, X_train, X_test):\n",
        "  print(classification_report(y_test, y_pred, target_names=labels))\n",
        "  print(\"Training Dataset Count\", X_train.shape[0])\n",
        "  print(\"Test Dataset Count\", X_test.shape[0])\n",
        "  print(\"Weighted Precision\", precision_score(y_test, y_pred, average='weighted'))\n",
        "  print(\"Weighted Recall\", recall_score(y_test, y_pred, average='weighted'))\n",
        "  print(\"Weighted F1\", f1_score(y_test, y_pred, average='weighted'))\n",
        "  print(\"Accuracy\", accuracy_score(y_test, y_pred))\n",
        "  print(\"Hamming Loss\", hamming_loss(y_test, y_pred))"
      ],
      "metadata": {
        "id": "eO6EzcCNpYb8"
      },
      "execution_count": 60,
      "outputs": []
    },
    {
      "cell_type": "markdown",
      "source": [
        "#### Raw data"
      ],
      "metadata": {
        "id": "w5qa0IPVAWfa"
      }
    },
    {
      "cell_type": "code",
      "source": [
        "# Classification report for raw data (imbalanced data) \n",
        "results(y_test, y_pred_cc_lr_raw, labels, X_train, X_test)"
      ],
      "metadata": {
        "colab": {
          "base_uri": "https://localhost:8080/"
        },
        "id": "Y2yZadkUp40E",
        "outputId": "a7eeb444-ef4d-43f8-971f-2a4607f0b388"
      },
      "execution_count": 61,
      "outputs": [
        {
          "output_type": "stream",
          "name": "stdout",
          "text": [
            "              precision    recall  f1-score   support\n",
            "\n",
            "       cs.CV       0.33      0.16      0.21       215\n",
            "       cs.LG       0.89      0.90      0.89       862\n",
            "     stat.ML       0.85      0.81      0.83       835\n",
            "       cs.AI       0.09      0.05      0.06        61\n",
            "     eess.IV       0.61      0.62      0.62       469\n",
            "\n",
            "   micro avg       0.78      0.73      0.75      2442\n",
            "   macro avg       0.55      0.51      0.52      2442\n",
            "weighted avg       0.75      0.73      0.74      2442\n",
            " samples avg       0.83      0.80      0.78      2442\n",
            "\n",
            "Training Dataset Count 3500\n",
            "Test Dataset Count 1500\n",
            "Weighted Precision 0.7542915005405129\n",
            "Weighted Recall 0.7289107289107289\n",
            "Weighted F1 0.7385891999574948\n",
            "Accuracy 0.4806666666666667\n",
            "Hamming Loss 0.15453333333333333\n"
          ]
        }
      ]
    },
    {
      "cell_type": "code",
      "source": [
        "results(y_test, y_pred_cc_nb_raw, labels, X_train, X_test)"
      ],
      "metadata": {
        "colab": {
          "base_uri": "https://localhost:8080/"
        },
        "id": "sBCUjkPb20RH",
        "outputId": "9281a6c3-e42d-41c4-a669-93e32ecda9e2"
      },
      "execution_count": 62,
      "outputs": [
        {
          "output_type": "stream",
          "name": "stdout",
          "text": [
            "              precision    recall  f1-score   support\n",
            "\n",
            "       cs.CV       0.32      0.48      0.39       215\n",
            "       cs.LG       0.90      0.89      0.90       862\n",
            "     stat.ML       0.91      0.79      0.84       835\n",
            "       cs.AI       0.07      0.49      0.13        61\n",
            "     eess.IV       0.59      0.80      0.68       469\n",
            "\n",
            "   micro avg       0.66      0.79      0.72      2442\n",
            "   macro avg       0.56      0.69      0.59      2442\n",
            "weighted avg       0.77      0.79      0.77      2442\n",
            " samples avg       0.69      0.84      0.72      2442\n",
            "\n",
            "Training Dataset Count 3500\n",
            "Test Dataset Count 1500\n",
            "Weighted Precision 0.7734314692280188\n",
            "Weighted Recall 0.7927927927927928\n",
            "Weighted F1 0.7733896587372856\n",
            "Accuracy 0.31066666666666665\n",
            "Hamming Loss 0.2024\n"
          ]
        }
      ]
    },
    {
      "cell_type": "code",
      "source": [
        "results(y_test, y_pred_br_lr_raw, labels, X_train, X_test)"
      ],
      "metadata": {
        "colab": {
          "base_uri": "https://localhost:8080/"
        },
        "id": "Xr1yYPE821s4",
        "outputId": "e11a6138-9075-4d36-f82c-33d5d0417c1c"
      },
      "execution_count": 63,
      "outputs": [
        {
          "output_type": "stream",
          "name": "stdout",
          "text": [
            "              precision    recall  f1-score   support\n",
            "\n",
            "       cs.CV       0.33      0.16      0.21       215\n",
            "       cs.LG       0.89      0.90      0.90       862\n",
            "     stat.ML       0.84      0.84      0.84       835\n",
            "       cs.AI       0.03      0.02      0.02        61\n",
            "     eess.IV       0.62      0.58      0.59       469\n",
            "\n",
            "   micro avg       0.78      0.73      0.75      2442\n",
            "   macro avg       0.54      0.50      0.51      2442\n",
            "weighted avg       0.75      0.73      0.74      2442\n",
            " samples avg       0.82      0.80      0.77      2442\n",
            "\n",
            "Training Dataset Count 3500\n",
            "Test Dataset Count 1500\n",
            "Weighted Precision 0.7484836382551212\n",
            "Weighted Recall 0.730958230958231\n",
            "Weighted F1 0.7368768895657534\n",
            "Accuracy 0.4553333333333333\n",
            "Hamming Loss 0.15506666666666666\n"
          ]
        }
      ]
    },
    {
      "cell_type": "code",
      "source": [
        "results(y_test, y_pred_br_nb_raw, labels, X_train, X_test)"
      ],
      "metadata": {
        "colab": {
          "base_uri": "https://localhost:8080/"
        },
        "id": "MCP7nEv_2w3M",
        "outputId": "bcd49a44-62d6-4d3c-b46e-546b3c1427ab"
      },
      "execution_count": 64,
      "outputs": [
        {
          "output_type": "stream",
          "name": "stdout",
          "text": [
            "              precision    recall  f1-score   support\n",
            "\n",
            "       cs.CV       0.32      0.48      0.39       215\n",
            "       cs.LG       0.91      0.90      0.90       862\n",
            "     stat.ML       0.90      0.81      0.85       835\n",
            "       cs.AI       0.07      0.46      0.13        61\n",
            "     eess.IV       0.61      0.80      0.70       469\n",
            "\n",
            "   micro avg       0.67      0.80      0.73      2442\n",
            "   macro avg       0.56      0.69      0.59      2442\n",
            "weighted avg       0.78      0.80      0.78      2442\n",
            " samples avg       0.71      0.85      0.74      2442\n",
            "\n",
            "Training Dataset Count 3500\n",
            "Test Dataset Count 1500\n",
            "Weighted Precision 0.7759783676204339\n",
            "Weighted Recall 0.800982800982801\n",
            "Weighted F1 0.7802777062670232\n",
            "Accuracy 0.33\n",
            "Hamming Loss 0.1928\n"
          ]
        }
      ]
    },
    {
      "cell_type": "code",
      "source": [
        "results(y_test, y_pred_mlknn_raw, labels, X_train, X_test)"
      ],
      "metadata": {
        "colab": {
          "base_uri": "https://localhost:8080/"
        },
        "id": "fL0Ot9U36Wyp",
        "outputId": "0a8888ad-1d86-46a3-c39f-476b78cc2cc9"
      },
      "execution_count": 65,
      "outputs": [
        {
          "output_type": "stream",
          "name": "stdout",
          "text": [
            "              precision    recall  f1-score   support\n",
            "\n",
            "       cs.CV       0.42      0.27      0.33       215\n",
            "       cs.LG       0.87      0.92      0.90       862\n",
            "     stat.ML       0.86      0.81      0.84       835\n",
            "       cs.AI       0.40      0.03      0.06        61\n",
            "     eess.IV       0.65      0.53      0.58       469\n",
            "\n",
            "   micro avg       0.80      0.73      0.76      2442\n",
            "   macro avg       0.64      0.51      0.54      2442\n",
            "weighted avg       0.77      0.73      0.74      2442\n",
            " samples avg       0.84      0.80      0.79      2442\n",
            "\n",
            "Training Dataset Count 3500\n",
            "Test Dataset Count 1500\n",
            "Weighted Precision 0.7737869984320097\n",
            "Weighted Recall 0.7293202293202293\n",
            "Weighted F1 0.744596570015297\n",
            "Accuracy 0.49666666666666665\n",
            "Hamming Loss 0.1472\n"
          ]
        }
      ]
    },
    {
      "cell_type": "markdown",
      "source": [
        "#### MLROS"
      ],
      "metadata": {
        "id": "PwCZzxFBAfTI"
      }
    },
    {
      "cell_type": "code",
      "source": [
        "results(y_test, y_pred_cc_lr_mlros, labels, X_train_mlros, X_test)"
      ],
      "metadata": {
        "colab": {
          "base_uri": "https://localhost:8080/"
        },
        "id": "rs57s9PSoySZ",
        "outputId": "92208416-f11d-4375-84ac-3db92873328b"
      },
      "execution_count": 66,
      "outputs": [
        {
          "output_type": "stream",
          "name": "stdout",
          "text": [
            "              precision    recall  f1-score   support\n",
            "\n",
            "       cs.CV       0.32      0.16      0.22       215\n",
            "       cs.LG       0.88      0.91      0.90       862\n",
            "     stat.ML       0.83      0.81      0.82       835\n",
            "       cs.AI       0.07      0.10      0.08        61\n",
            "     eess.IV       0.61      0.59      0.60       469\n",
            "\n",
            "   micro avg       0.76      0.73      0.74      2442\n",
            "   macro avg       0.54      0.51      0.52      2442\n",
            "weighted avg       0.74      0.73      0.73      2442\n",
            " samples avg       0.81      0.80      0.77      2442\n",
            "\n",
            "Training Dataset Count 3928\n",
            "Test Dataset Count 1500\n",
            "Weighted Precision 0.7434889262727635\n",
            "Weighted Recall 0.7289107289107289\n",
            "Weighted F1 0.7336679690523359\n",
            "Accuracy 0.45666666666666667\n",
            "Hamming Loss 0.16386666666666666\n"
          ]
        }
      ]
    },
    {
      "cell_type": "code",
      "source": [
        "results(y_test, y_pred_cc_nb_mlros, labels, X_train_mlros, X_test)"
      ],
      "metadata": {
        "colab": {
          "base_uri": "https://localhost:8080/"
        },
        "id": "8ebkN_iw2iKd",
        "outputId": "a02350e7-4c02-4681-d63d-f5cdfc1699d8"
      },
      "execution_count": 67,
      "outputs": [
        {
          "output_type": "stream",
          "name": "stdout",
          "text": [
            "              precision    recall  f1-score   support\n",
            "\n",
            "       cs.CV       0.32      0.50      0.39       215\n",
            "       cs.LG       0.90      0.89      0.90       862\n",
            "     stat.ML       0.90      0.81      0.85       835\n",
            "       cs.AI       0.07      0.52      0.13        61\n",
            "     eess.IV       0.59      0.81      0.68       469\n",
            "\n",
            "   micro avg       0.65      0.80      0.72      2442\n",
            "   macro avg       0.56      0.71      0.59      2442\n",
            "weighted avg       0.77      0.80      0.78      2442\n",
            " samples avg       0.69      0.85      0.73      2442\n",
            "\n",
            "Training Dataset Count 3928\n",
            "Test Dataset Count 1500\n",
            "Weighted Precision 0.7689531116042975\n",
            "Weighted Recall 0.8046683046683046\n",
            "Weighted F1 0.7765447188089878\n",
            "Accuracy 0.30666666666666664\n",
            "Hamming Loss 0.2044\n"
          ]
        }
      ]
    },
    {
      "cell_type": "code",
      "source": [
        "results(y_test, y_pred_br_lr_mlros, labels, X_train_mlros, X_test)"
      ],
      "metadata": {
        "colab": {
          "base_uri": "https://localhost:8080/"
        },
        "id": "XLKlUOeV2kXI",
        "outputId": "46b0d237-c01c-4ee1-cf88-61f608f39ae6"
      },
      "execution_count": 68,
      "outputs": [
        {
          "output_type": "stream",
          "name": "stdout",
          "text": [
            "              precision    recall  f1-score   support\n",
            "\n",
            "       cs.CV       0.32      0.16      0.22       215\n",
            "       cs.LG       0.88      0.91      0.89       862\n",
            "     stat.ML       0.82      0.84      0.83       835\n",
            "       cs.AI       0.09      0.11      0.10        61\n",
            "     eess.IV       0.61      0.56      0.59       469\n",
            "\n",
            "   micro avg       0.76      0.73      0.75      2442\n",
            "   macro avg       0.55      0.52      0.53      2442\n",
            "weighted avg       0.74      0.73      0.73      2442\n",
            " samples avg       0.81      0.80      0.77      2442\n",
            "\n",
            "Training Dataset Count 3928\n",
            "Test Dataset Count 1500\n",
            "Weighted Precision 0.7414861992856538\n",
            "Weighted Recall 0.7334152334152334\n",
            "Weighted F1 0.7347231144331895\n",
            "Accuracy 0.436\n",
            "Hamming Loss 0.16253333333333334\n"
          ]
        }
      ]
    },
    {
      "cell_type": "code",
      "source": [
        "results(y_test, y_pred_br_nb_mlros, labels, X_train_mlros, X_test)"
      ],
      "metadata": {
        "colab": {
          "base_uri": "https://localhost:8080/"
        },
        "id": "yeR1IBZ_2bGD",
        "outputId": "139af51f-5069-4142-955b-db91d8db23d8"
      },
      "execution_count": 69,
      "outputs": [
        {
          "output_type": "stream",
          "name": "stdout",
          "text": [
            "              precision    recall  f1-score   support\n",
            "\n",
            "       cs.CV       0.32      0.50      0.39       215\n",
            "       cs.LG       0.90      0.89      0.90       862\n",
            "     stat.ML       0.89      0.83      0.86       835\n",
            "       cs.AI       0.07      0.48      0.13        61\n",
            "     eess.IV       0.61      0.81      0.69       469\n",
            "\n",
            "   micro avg       0.66      0.81      0.73      2442\n",
            "   macro avg       0.56      0.70      0.59      2442\n",
            "weighted avg       0.77      0.81      0.78      2442\n",
            " samples avg       0.70      0.85      0.73      2442\n",
            "\n",
            "Training Dataset Count 3928\n",
            "Test Dataset Count 1500\n",
            "Weighted Precision 0.7689804385625978\n",
            "Weighted Recall 0.8087633087633087\n",
            "Weighted F1 0.7802324974953598\n",
            "Accuracy 0.31733333333333336\n",
            "Hamming Loss 0.1972\n"
          ]
        }
      ]
    },
    {
      "cell_type": "code",
      "source": [
        "results(y_test, y_pred_mlknn_mlros, labels, X_train_mlros, X_test)"
      ],
      "metadata": {
        "colab": {
          "base_uri": "https://localhost:8080/"
        },
        "id": "fMLkIaxMg2q9",
        "outputId": "b4277877-3710-428d-b73a-c5ce87921859"
      },
      "execution_count": 70,
      "outputs": [
        {
          "output_type": "stream",
          "name": "stdout",
          "text": [
            "              precision    recall  f1-score   support\n",
            "\n",
            "       cs.CV       0.42      0.27      0.33       215\n",
            "       cs.LG       0.86      0.90      0.88       862\n",
            "     stat.ML       0.80      0.81      0.81       835\n",
            "       cs.AI       0.06      0.07      0.06        61\n",
            "     eess.IV       0.64      0.51      0.57       469\n",
            "\n",
            "   micro avg       0.75      0.72      0.74      2442\n",
            "   macro avg       0.56      0.51      0.53      2442\n",
            "weighted avg       0.74      0.72      0.73      2442\n",
            " samples avg       0.81      0.78      0.76      2442\n",
            "\n",
            "Training Dataset Count 3928\n",
            "Test Dataset Count 1500\n",
            "Weighted Precision 0.740256144500976\n",
            "Weighted Recall 0.7211302211302212\n",
            "Weighted F1 0.7277281648046727\n",
            "Accuracy 0.45\n",
            "Hamming Loss 0.16706666666666667\n"
          ]
        }
      ]
    },
    {
      "cell_type": "markdown",
      "source": [
        "#### LPROS"
      ],
      "metadata": {
        "id": "gpbMXHlXAn7g"
      }
    },
    {
      "cell_type": "code",
      "source": [
        "results(y_test, y_pred_cc_lr_lpros, labels, X_train_lpros, X_test)"
      ],
      "metadata": {
        "colab": {
          "base_uri": "https://localhost:8080/"
        },
        "id": "weEOOcSFrl1K",
        "outputId": "e0813d4f-944c-4d25-8b29-1b071679c3f2"
      },
      "execution_count": 72,
      "outputs": [
        {
          "output_type": "stream",
          "name": "stdout",
          "text": [
            "              precision    recall  f1-score   support\n",
            "\n",
            "       cs.CV       0.20      0.34      0.25       215\n",
            "       cs.LG       0.85      0.89      0.87       862\n",
            "     stat.ML       0.73      0.85      0.78       835\n",
            "       cs.AI       0.07      0.15      0.09        61\n",
            "     eess.IV       0.54      0.53      0.53       469\n",
            "\n",
            "   micro avg       0.64      0.74      0.69      2442\n",
            "   macro avg       0.48      0.55      0.51      2442\n",
            "weighted avg       0.67      0.74      0.70      2442\n",
            " samples avg       0.69      0.80      0.69      2442\n",
            "\n",
            "Training Dataset Count 29414\n",
            "Test Dataset Count 1500\n",
            "Weighted Precision 0.6704410997894021\n",
            "Weighted Recall 0.7416052416052417\n",
            "Weighted F1 0.7022379011511257\n",
            "Accuracy 0.2846666666666667\n",
            "Hamming Loss 0.222\n"
          ]
        }
      ]
    },
    {
      "cell_type": "code",
      "source": [
        "results(y_test, y_pred_cc_nb_lpros, labels, X_train_lpros, X_test)"
      ],
      "metadata": {
        "colab": {
          "base_uri": "https://localhost:8080/"
        },
        "id": "3ClhYcxD3H8r",
        "outputId": "8c8d0aef-9b94-4a3f-873e-35b1ce09352c"
      },
      "execution_count": 73,
      "outputs": [
        {
          "output_type": "stream",
          "name": "stdout",
          "text": [
            "              precision    recall  f1-score   support\n",
            "\n",
            "       cs.CV       0.23      0.50      0.31       215\n",
            "       cs.LG       0.80      0.90      0.85       862\n",
            "     stat.ML       0.59      0.95      0.73       835\n",
            "       cs.AI       0.03      0.03      0.03        61\n",
            "     eess.IV       0.56      0.30      0.40       469\n",
            "\n",
            "   micro avg       0.59      0.75      0.66      2442\n",
            "   macro avg       0.44      0.54      0.46      2442\n",
            "weighted avg       0.61      0.75      0.65      2442\n",
            " samples avg       0.63      0.80      0.66      2442\n",
            "\n",
            "Training Dataset Count 29414\n",
            "Test Dataset Count 1500\n",
            "Weighted Precision 0.6146828165760954\n",
            "Weighted Recall 0.7452907452907452\n",
            "Weighted F1 0.652862025088922\n",
            "Accuracy 0.14666666666666667\n",
            "Hamming Loss 0.25453333333333333\n"
          ]
        }
      ]
    },
    {
      "cell_type": "code",
      "source": [
        "results(y_test, y_pred_br_lr_lpros, labels, X_train_lpros, X_test)"
      ],
      "metadata": {
        "colab": {
          "base_uri": "https://localhost:8080/"
        },
        "id": "pW6z7JF23ITU",
        "outputId": "355f4ed9-1495-45d7-8bfa-fd0dfd884552"
      },
      "execution_count": 74,
      "outputs": [
        {
          "output_type": "stream",
          "name": "stdout",
          "text": [
            "              precision    recall  f1-score   support\n",
            "\n",
            "       cs.CV       0.20      0.34      0.25       215\n",
            "       cs.LG       0.85      0.89      0.87       862\n",
            "     stat.ML       0.73      0.87      0.80       835\n",
            "       cs.AI       0.08      0.20      0.12        61\n",
            "     eess.IV       0.54      0.53      0.53       469\n",
            "\n",
            "   micro avg       0.64      0.75      0.69      2442\n",
            "   macro avg       0.48      0.57      0.51      2442\n",
            "weighted avg       0.67      0.75      0.71      2442\n",
            " samples avg       0.69      0.80      0.69      2442\n",
            "\n",
            "Training Dataset Count 29414\n",
            "Test Dataset Count 1500\n",
            "Weighted Precision 0.673032126632292\n",
            "Weighted Recall 0.7477477477477478\n",
            "Weighted F1 0.7061137954974611\n",
            "Accuracy 0.2693333333333333\n",
            "Hamming Loss 0.22106666666666666\n"
          ]
        }
      ]
    },
    {
      "cell_type": "code",
      "source": [
        "results(y_test, y_pred_br_nb_lpros, labels, X_train_lpros, X_test)"
      ],
      "metadata": {
        "colab": {
          "base_uri": "https://localhost:8080/"
        },
        "id": "1xZOWUq93ExO",
        "outputId": "a357862e-7d21-4350-aece-00b99bf07571"
      },
      "execution_count": 75,
      "outputs": [
        {
          "output_type": "stream",
          "name": "stdout",
          "text": [
            "              precision    recall  f1-score   support\n",
            "\n",
            "       cs.CV       0.23      0.50      0.31       215\n",
            "       cs.LG       0.80      0.90      0.85       862\n",
            "     stat.ML       0.59      0.95      0.73       835\n",
            "       cs.AI       0.01      0.02      0.02        61\n",
            "     eess.IV       0.57      0.30      0.40       469\n",
            "\n",
            "   micro avg       0.58      0.74      0.66      2442\n",
            "   macro avg       0.44      0.53      0.46      2442\n",
            "weighted avg       0.61      0.74      0.65      2442\n",
            " samples avg       0.62      0.80      0.65      2442\n",
            "\n",
            "Training Dataset Count 29414\n",
            "Test Dataset Count 1500\n",
            "Weighted Precision 0.6131598303652921\n",
            "Weighted Recall 0.7448812448812449\n",
            "Weighted F1 0.6514233094167725\n",
            "Accuracy 0.142\n",
            "Hamming Loss 0.2554666666666667\n"
          ]
        }
      ]
    },
    {
      "cell_type": "code",
      "source": [
        "results(y_test, y_pred_mlknn_lpros, labels, X_train_lpros, X_test)"
      ],
      "metadata": {
        "colab": {
          "base_uri": "https://localhost:8080/"
        },
        "id": "AEKL5Hi1-ouL",
        "outputId": "73da95f0-919d-424a-fddf-37e5453bd39b"
      },
      "execution_count": 76,
      "outputs": [
        {
          "output_type": "stream",
          "name": "stdout",
          "text": [
            "              precision    recall  f1-score   support\n",
            "\n",
            "       cs.CV       0.31      0.32      0.31       215\n",
            "       cs.LG       0.86      0.81      0.84       862\n",
            "     stat.ML       0.76      0.81      0.79       835\n",
            "       cs.AI       0.06      0.07      0.06        61\n",
            "     eess.IV       0.51      0.54      0.52       469\n",
            "\n",
            "   micro avg       0.68      0.70      0.69      2442\n",
            "   macro avg       0.50      0.51      0.50      2442\n",
            "weighted avg       0.69      0.70      0.69      2442\n",
            " samples avg       0.73      0.75      0.70      2442\n",
            "\n",
            "Training Dataset Count 29414\n",
            "Test Dataset Count 1500\n",
            "Weighted Precision 0.6894622981728942\n",
            "Weighted Recall 0.6994266994266994\n",
            "Weighted F1 0.6937668986247858\n",
            "Accuracy 0.36\n",
            "Hamming Loss 0.2032\n"
          ]
        }
      ]
    },
    {
      "cell_type": "markdown",
      "source": [
        "## Conclusion\n",
        "In terms of hamming loss, the mlknn algorithm combined with the raw data performs the best. However, it can't predict a minor label (cs.AI) at all. The classifier chain of logistic regressions can be an alternative."
      ],
      "metadata": {
        "id": "WQ76qH-N1pmm"
      }
    },
    {
      "cell_type": "markdown",
      "source": [
        "## Appendix: Deep Learning\n",
        "* Use deep learning to improve the accuracy of the model.\n",
        "* Resource: https://keras.io/examples/nlp/multi_label_classification/"
      ],
      "metadata": {
        "id": "f4LKMJ46ZP1E"
      }
    },
    {
      "cell_type": "code",
      "source": [
        "# remove entries of which term occurs once \n",
        "df['terms_tuple'] = df['terms'].map(tuple)\n",
        "df_filtered_2 = df.groupby(\"terms_tuple\").filter(lambda x: len(x) > 1)\n",
        "df_filtered_2.shape"
      ],
      "metadata": {
        "colab": {
          "base_uri": "https://localhost:8080/"
        },
        "id": "7kPixzZflT4F",
        "outputId": "9d6b4aa6-52c3-470b-ecdf-404a38fbe895"
      },
      "execution_count": 77,
      "outputs": [
        {
          "output_type": "execute_result",
          "data": {
            "text/plain": [
              "(4475, 3)"
            ]
          },
          "metadata": {},
          "execution_count": 77
        }
      ]
    },
    {
      "cell_type": "code",
      "source": [
        "df_filtered_2[\"terms\"] = df_filtered_2[\"terms\"].apply(lambda x: literal_eval(str(x)))\n",
        "df_filtered_2[\"terms\"].values[:5]"
      ],
      "metadata": {
        "colab": {
          "base_uri": "https://localhost:8080/"
        },
        "id": "6EeYi2PUn4Yn",
        "outputId": "4f3091bd-6db2-4c46-c871-029c1d8c1076"
      },
      "execution_count": 92,
      "outputs": [
        {
          "output_type": "execute_result",
          "data": {
            "text/plain": [
              "array([list(['cs.CV']), list(['cs.CV', 'cs.AI']),\n",
              "       list(['cs.CV', 'cs.LG']), list(['stat.ML', 'cs.LG']),\n",
              "       list(['cs.LG'])], dtype=object)"
            ]
          },
          "metadata": {},
          "execution_count": 92
        }
      ]
    },
    {
      "cell_type": "code",
      "source": [
        "# Initial train and test split.\n",
        "train_2, test_2 = train_test_split(df_filtered_2, test_size=0.3, stratify=df_filtered_2[\"terms\"].values, random_state=1)\n",
        "\n",
        "# Splitting the test set further into validation\n",
        "val_2 = test_2.sample(frac=0.5, random_state = 1)\n",
        "test_2.drop(val_2.index, inplace=True)"
      ],
      "metadata": {
        "id": "PP6cti4dd_fK"
      },
      "execution_count": 93,
      "outputs": []
    },
    {
      "cell_type": "code",
      "source": [
        "train_2[\"summaries\"].apply(lambda x: len(x.split(\" \"))).describe()"
      ],
      "metadata": {
        "colab": {
          "base_uri": "https://localhost:8080/"
        },
        "id": "mZZ0o8HjWlfC",
        "outputId": "d089c851-6ca1-4705-8702-f469965bcbb3"
      },
      "execution_count": 94,
      "outputs": [
        {
          "output_type": "execute_result",
          "data": {
            "text/plain": [
              "count    3132.000000\n",
              "mean      156.329183\n",
              "std        41.462784\n",
              "min        24.000000\n",
              "25%       127.000000\n",
              "50%       154.000000\n",
              "75%       183.000000\n",
              "max       279.000000\n",
              "Name: summaries, dtype: float64"
            ]
          },
          "metadata": {},
          "execution_count": 94
        }
      ]
    },
    {
      "cell_type": "code",
      "source": [
        "terms = tf.ragged.constant(train_2[\"terms\"].values)\n",
        "lookup = tf.keras.layers.StringLookup(output_mode=\"multi_hot\")\n",
        "lookup.adapt(terms)\n",
        "vocab = lookup.get_vocabulary()\n",
        "\n",
        "def invert_multi_hot(encoded_labels):\n",
        "    \"\"\"Reverse a single multi-hot encoded label to a tuple of vocab terms.\"\"\"\n",
        "    hot_indices = np.argwhere(encoded_labels == 1.0)[..., 0]\n",
        "    return np.take(vocab, hot_indices)\n",
        "\n",
        "print(\"Vocabulary:\\n\")\n",
        "print(vocab)"
      ],
      "metadata": {
        "colab": {
          "base_uri": "https://localhost:8080/"
        },
        "id": "vTCwXbekYT1R",
        "outputId": "0ba9364e-e7f6-4786-e2a6-b9174786c683"
      },
      "execution_count": 95,
      "outputs": [
        {
          "output_type": "stream",
          "name": "stdout",
          "text": [
            "Vocabulary:\n",
            "\n",
            "['[UNK]', 'cs.CV', 'cs.LG', 'stat.ML', 'cs.AI', 'eess.IV', 'cs.RO', 'cs.CL', 'cs.NE', 'cs.CR', 'cs.SI', 'math.OC', 'eess.SP', 'cs.GR', 'cs.MM', 'cs.SY', 'cs.IR', 'eess.SY', 'cs.MA', 'cs.DC', 'stat.AP', 'math.IT', 'cs.IT', 'stat.TH', 'math.ST', 'cs.HC', 'cs.GT', 'stat.ME', 'eess.AS', 'cs.SD', 'q-bio.QM', 'stat.CO', 'math.NA', 'cs.NA', 'cs.DS', 'cs.CY', 'astro-ph.IM', 'q-bio.NC', 'cs.PL', 'physics.comp-ph', 'cs.DB', 'physics.med-ph', 'physics.chem-ph', 'math.PR', 'cs.SE', 'cs.NI', 'cs.CG', 'I.4.8', 'I.2.6', 'I.2.10', 'q-fin.CP', 'physics.data-an', 'math.DS', 'cond-mat.stat-mech', 'I.4', '68T07']\n"
          ]
        }
      ]
    },
    {
      "cell_type": "code",
      "source": [
        "max_seqlen = 150\n",
        "batch_size = 128\n",
        "padding_token = \"<pad>\"\n",
        "auto = tf.data.AUTOTUNE\n",
        "\n",
        "def make_dataset(dataframe, is_train=True):\n",
        "    labels = tf.ragged.constant(dataframe[\"terms\"].values)\n",
        "    label_binarized = lookup(labels).numpy()\n",
        "    dataset = tf.data.Dataset.from_tensor_slices(\n",
        "        (dataframe[\"summaries\"].values, label_binarized))\n",
        "    dataset = dataset.shuffle(batch_size * 10) if is_train else dataset\n",
        "    return dataset.batch(batch_size)"
      ],
      "metadata": {
        "id": "jKMeKKkbXCIU"
      },
      "execution_count": 96,
      "outputs": []
    },
    {
      "cell_type": "code",
      "source": [
        "train_dataset = make_dataset(train_2, is_train=True)\n",
        "validation_dataset = make_dataset(val_2, is_train=False)\n",
        "test_dataset = make_dataset(test_2, is_train=False)"
      ],
      "metadata": {
        "id": "_bbzKixUXsHr"
      },
      "execution_count": 97,
      "outputs": []
    },
    {
      "cell_type": "code",
      "source": [
        "train_dataset"
      ],
      "metadata": {
        "id": "gfMVzI_aecbo",
        "colab": {
          "base_uri": "https://localhost:8080/"
        },
        "outputId": "5c15e99a-38ff-48ac-c345-f620298930ed"
      },
      "execution_count": 98,
      "outputs": [
        {
          "output_type": "execute_result",
          "data": {
            "text/plain": [
              "<BatchDataset element_spec=(TensorSpec(shape=(None,), dtype=tf.string, name=None), TensorSpec(shape=(None, 56), dtype=tf.float32, name=None))>"
            ]
          },
          "metadata": {},
          "execution_count": 98
        }
      ]
    },
    {
      "cell_type": "code",
      "source": [
        "text_batch, label_batch = next(iter(train_dataset))\n",
        "\n",
        "for i, text in enumerate(text_batch[:5]):\n",
        "    label = label_batch[i].numpy()[None, ...]\n",
        "    print(f\"Abstract: {text}\")\n",
        "    print(f\"Label(s): {invert_multi_hot(label[0])}\")\n",
        "    print(\" \")"
      ],
      "metadata": {
        "colab": {
          "base_uri": "https://localhost:8080/"
        },
        "id": "0ap_qliBmXSy",
        "outputId": "93aad629-5977-41db-f05a-f9f6bf263524"
      },
      "execution_count": 99,
      "outputs": [
        {
          "output_type": "stream",
          "name": "stdout",
          "text": [
            "Abstract: b'Learning meaningful representations of data is an important aspect of machine\\nlearning and has recently been successfully applied to many domains like\\nlanguage understanding or computer vision. Instead of training a model for one\\nspecific task, representation learning is about training a model to capture all\\nuseful information in the underlying data and make it accessible for a\\npredictor. For predictive process analytics, it is essential to have all\\nexplanatory characteristics of a process instance available when making\\npredictions about the future, as well as for clustering and anomaly detection.\\nDue to the large variety of perspectives and types within business process\\ndata, generating a good representation is a challenging task. In this paper, we\\npropose a novel approach for representation learning of business process\\ninstances which can process and combine most perspectives in an event log. In\\nconjunction with a self-supervised pre-training method, we show the\\ncapabilities of the approach through a visualization of the representation\\nspace and case retrieval. Furthermore, the pre-trained model is fine-tuned to\\nmultiple process prediction tasks and demonstrates its effectiveness in\\ncomparison with existing approaches.'\n",
            "Label(s): ['cs.LG' 'stat.ML' 'cs.AI']\n",
            " \n",
            "Abstract: b'In the era of autonomous driving, urban mapping represents a core step to let\\nvehicles interact with the urban context. Successful mapping algorithms have\\nbeen proposed in the last decade building the map leveraging on data from a\\nsingle sensor. The focus of the system presented in this paper is twofold: the\\njoint estimation of a 3D map from lidar data and images, based on a 3D mesh,\\nand its texturing. Indeed, even if most surveying vehicles for mapping are\\nendowed by cameras and lidar, existing mapping algorithms usually rely on\\neither images or lidar data; moreover both image-based and lidar-based systems\\noften represent the map as a point cloud, while a continuous textured mesh\\nrepresentation would be useful for visualization and navigation purposes. In\\nthe proposed framework, we join the accuracy of the 3D lidar data, and the\\ndense information and appearance carried by the images, in estimating a\\nvisibility consistent map upon the lidar measurements, and refining it\\nphotometrically through the acquired images. We evaluate the proposed framework\\nagainst the KITTI dataset and we show the performance improvement with respect\\nto two state of the art urban mapping algorithms, and two widely used surface\\nreconstruction algorithms in Computer Graphics.'\n",
            "Label(s): ['cs.CV']\n",
            " \n",
            "Abstract: b'Image segmentation is still an open problem especially when intensities of\\nthe interested objects are overlapped due to the presence of intensity\\ninhomogeneity (also known as bias field). To segment images with intensity\\ninhomogeneities, a bias correction embedded level set model is proposed where\\nInhomogeneities are Estimated by Orthogonal Primary Functions (IEOPF). In the\\nproposed model, the smoothly varying bias is estimated by a linear combination\\nof a given set of orthogonal primary functions. An inhomogeneous intensity\\nclustering energy is then defined and membership functions of the clusters\\ndescribed by the level set function are introduced to rewrite the energy as a\\ndata term of the proposed model. Similar to popular level set methods, a\\nregularization term and an arc length term are also included to regularize and\\nsmooth the level set function, respectively. The proposed model is then\\nextended to multichannel and multiphase patterns to segment colourful images\\nand images with multiple objects, respectively. It has been extensively tested\\non both synthetic and real images that are widely used in the literature and\\npublic BrainWeb and IBSR datasets. Experimental results and comparison with\\nstate-of-the-art methods demonstrate that advantages of the proposed model in\\nterms of bias correction and segmentation accuracy.'\n",
            "Label(s): ['cs.CV']\n",
            " \n",
            "Abstract: b'Medical imaging AI systems such as disease classification and segmentation\\nare increasingly inspired and transformed from computer vision based AI\\nsystems. Although an array of adversarial training and/or loss function based\\ndefense techniques have been developed and proved to be effective in computer\\nvision, defending against adversarial attacks on medical images remains largely\\nan uncharted territory due to the following unique challenges: 1) label\\nscarcity in medical images significantly limits adversarial generalizability of\\nthe AI system; 2) vastly similar and dominant fore- and background in medical\\nimages make it hard samples for learning the discriminating features between\\ndifferent disease classes; and 3) crafted adversarial noises added to the\\nentire medical image as opposed to the focused organ target can make clean and\\nadversarial examples more discriminate than that between different disease\\nclasses. In this paper, we propose a novel robust medical imaging AI framework\\nbased on Semi-Supervised Adversarial Training (SSAT) and Unsupervised\\nAdversarial Detection (UAD), followed by designing a new measure for assessing\\nsystems adversarial risk. We systematically demonstrate the advantages of our\\nrobust medical imaging AI system over the existing adversarial defense\\ntechniques under diverse real-world settings of adversarial attacks using a\\nbenchmark OCT imaging data set.'\n",
            "Label(s): ['cs.CV' 'cs.LG' 'eess.IV']\n",
            " \n",
            "Abstract: b'Deep-learning-based image processing has emerged as a valuable tool in recent\\nyears owing to its high performance. However, the quality of\\ndeep-learning-based methods relies heavily on the amount of training data, and\\nthe cost of acquiring a large amount of data is often prohibitive in medical\\nfields. Therefore, we performed CT modality conversion based on deep learning\\nrequiring only a small number of unsupervised images. The proposed method is\\nbased on generative adversarial networks (GANs) with several extensions\\ntailored for CT images. This method emphasizes the preservation of the\\nstructure in the processed images and reduction in the amount of training data.\\nThis method was applied to realize the conversion of mega-voltage computed\\ntomography (MVCT) to kilo-voltage computed tomography (kVCT) images. Training\\nwas performed using several datasets acquired from patients with head and neck\\ncancer. The size of the datasets ranged from 16 slices (for two patients) to\\n2745 slices (for 137 patients) of MVCT and 2824 slices of kVCT for 98 patients.\\nThe quality of the processed MVCT images was considerably enhanced, and the\\nstructural changes in the images were minimized. With an increase in the size\\nof training data, the image quality exhibited a satisfactory convergence from a\\nfew hundred slices. In addition to statistical and visual evaluations, these\\nresults were clinically evaluated by medical doctors in terms of the accuracy\\nof contouring. We developed an MVCT to kVCT conversion model based on deep\\nlearning, which can be trained using a few hundred unpaired images. The\\nstability of the model against the change in the data size was demonstrated.\\nThis research promotes the reliable use of deep learning in clinical medicine\\nby partially answering the commonly asked questions: \"Is our data enough? How\\nmuch data must we prepare?\"'\n",
            "Label(s): ['cs.CV' 'physics.med-ph']\n",
            " \n"
          ]
        }
      ]
    },
    {
      "cell_type": "code",
      "source": [
        "vocabulary = set()\n",
        "train_2[\"summaries\"].str.lower().str.split().apply(vocabulary.update)\n",
        "vocabulary_size = len(vocabulary)\n",
        "print(vocabulary_size)"
      ],
      "metadata": {
        "colab": {
          "base_uri": "https://localhost:8080/"
        },
        "id": "-J33zbLSm5mc",
        "outputId": "3618de1f-7cb3-4b41-ad57-528a578cc207"
      },
      "execution_count": 100,
      "outputs": [
        {
          "output_type": "stream",
          "name": "stdout",
          "text": [
            "33267\n"
          ]
        }
      ]
    },
    {
      "cell_type": "code",
      "source": [
        "text_vectorizer = layers.TextVectorization(max_tokens=vocabulary_size, ngrams=2, output_mode=\"tf_idf\")\n",
        "\n",
        "with tf.device(\"/CPU:0\"):\n",
        "    text_vectorizer.adapt(train_dataset.map(lambda text, label: text))\n",
        "\n",
        "train_dataset = train_dataset.map(\n",
        "    lambda text, label: (text_vectorizer(text), label), num_parallel_calls=auto\n",
        ").prefetch(auto)\n",
        "validation_dataset = validation_dataset.map(\n",
        "    lambda text, label: (text_vectorizer(text), label), num_parallel_calls=auto\n",
        ").prefetch(auto)\n",
        "test_dataset = test_dataset.map(\n",
        "    lambda text, label: (text_vectorizer(text), label), num_parallel_calls=auto\n",
        ").prefetch(auto)"
      ],
      "metadata": {
        "id": "3GoqN3i0mzlg"
      },
      "execution_count": 101,
      "outputs": []
    },
    {
      "cell_type": "code",
      "source": [
        "def make_model():\n",
        "    shallow_mlp_model = keras.Sequential(\n",
        "        [\n",
        "            layers.Dense(512, activation=\"relu\"),\n",
        "            layers.Dense(256, activation=\"relu\"),\n",
        "            layers.Dense(lookup.vocabulary_size(), activation=\"sigmoid\"),\n",
        "        ]  \n",
        "    )\n",
        "    return shallow_mlp_model"
      ],
      "metadata": {
        "id": "hvT6Bfv2osvr"
      },
      "execution_count": 102,
      "outputs": []
    },
    {
      "cell_type": "code",
      "source": [
        "epochs = 20\n",
        "\n",
        "shallow_mlp_model = make_model()\n",
        "shallow_mlp_model.compile(\n",
        "    loss=\"binary_crossentropy\", optimizer=\"adam\", metrics=[\"categorical_accuracy\"]\n",
        ")\n",
        "\n",
        "history = shallow_mlp_model.fit(\n",
        "    train_dataset, validation_data=validation_dataset, epochs=epochs\n",
        ")\n",
        "\n",
        "\n",
        "def plot_result(item):\n",
        "    plt.plot(history.history[item], label=item)\n",
        "    plt.plot(history.history[\"val_\" + item], label=\"val_\" + item)\n",
        "    plt.xlabel(\"Epochs\")\n",
        "    plt.ylabel(item)\n",
        "    plt.title(\"Train and Validation {} Over Epochs\".format(item), fontsize=14)\n",
        "    plt.legend()\n",
        "    plt.grid()\n",
        "    plt.show()\n",
        "\n",
        "\n",
        "plot_result(\"loss\")\n",
        "plot_result(\"categorical_accuracy\")"
      ],
      "metadata": {
        "colab": {
          "base_uri": "https://localhost:8080/",
          "height": 1000
        },
        "id": "Bp83Ez6Sov4e",
        "outputId": "15ac14ff-c139-415d-adbc-6eee2f2bdb38"
      },
      "execution_count": 103,
      "outputs": [
        {
          "output_type": "stream",
          "name": "stdout",
          "text": [
            "Epoch 1/20\n",
            "25/25 [==============================] - 1s 31ms/step - loss: 0.1604 - categorical_accuracy: 0.7759 - val_loss: 0.0628 - val_categorical_accuracy: 0.8690\n",
            "Epoch 2/20\n",
            "25/25 [==============================] - 1s 24ms/step - loss: 0.0234 - categorical_accuracy: 0.9275 - val_loss: 0.0575 - val_categorical_accuracy: 0.8795\n",
            "Epoch 3/20\n",
            "25/25 [==============================] - 1s 34ms/step - loss: 0.0058 - categorical_accuracy: 0.9026 - val_loss: 0.0683 - val_categorical_accuracy: 0.8690\n",
            "Epoch 4/20\n",
            "25/25 [==============================] - 1s 53ms/step - loss: 0.0017 - categorical_accuracy: 0.9205 - val_loss: 0.0724 - val_categorical_accuracy: 0.8824\n",
            "Epoch 5/20\n",
            "25/25 [==============================] - 1s 32ms/step - loss: 7.6626e-04 - categorical_accuracy: 0.9224 - val_loss: 0.0800 - val_categorical_accuracy: 0.8720\n",
            "Epoch 6/20\n",
            "25/25 [==============================] - 1s 42ms/step - loss: 4.3503e-04 - categorical_accuracy: 0.9205 - val_loss: 0.0852 - val_categorical_accuracy: 0.8631\n",
            "Epoch 7/20\n",
            "25/25 [==============================] - 1s 28ms/step - loss: 2.8098e-04 - categorical_accuracy: 0.9231 - val_loss: 0.0878 - val_categorical_accuracy: 0.8720\n",
            "Epoch 8/20\n",
            "25/25 [==============================] - 1s 25ms/step - loss: 1.9318e-04 - categorical_accuracy: 0.9186 - val_loss: 0.0918 - val_categorical_accuracy: 0.8705\n",
            "Epoch 9/20\n",
            "25/25 [==============================] - 1s 23ms/step - loss: 1.3790e-04 - categorical_accuracy: 0.9195 - val_loss: 0.0966 - val_categorical_accuracy: 0.8661\n",
            "Epoch 10/20\n",
            "25/25 [==============================] - 1s 24ms/step - loss: 9.9538e-05 - categorical_accuracy: 0.9173 - val_loss: 0.0986 - val_categorical_accuracy: 0.8676\n",
            "Epoch 11/20\n",
            "25/25 [==============================] - 1s 23ms/step - loss: 7.3621e-05 - categorical_accuracy: 0.9266 - val_loss: 0.1021 - val_categorical_accuracy: 0.8631\n",
            "Epoch 12/20\n",
            "25/25 [==============================] - 1s 25ms/step - loss: 5.6583e-05 - categorical_accuracy: 0.9253 - val_loss: 0.1062 - val_categorical_accuracy: 0.8661\n",
            "Epoch 13/20\n",
            "25/25 [==============================] - 1s 44ms/step - loss: 4.4100e-05 - categorical_accuracy: 0.9282 - val_loss: 0.1080 - val_categorical_accuracy: 0.8661\n",
            "Epoch 14/20\n",
            "25/25 [==============================] - 1s 41ms/step - loss: 3.4922e-05 - categorical_accuracy: 0.9310 - val_loss: 0.1103 - val_categorical_accuracy: 0.8646\n",
            "Epoch 15/20\n",
            "25/25 [==============================] - 1s 39ms/step - loss: 2.8513e-05 - categorical_accuracy: 0.9298 - val_loss: 0.1131 - val_categorical_accuracy: 0.8646\n",
            "Epoch 16/20\n",
            "25/25 [==============================] - 1s 37ms/step - loss: 2.3356e-05 - categorical_accuracy: 0.9310 - val_loss: 0.1155 - val_categorical_accuracy: 0.8646\n",
            "Epoch 17/20\n",
            "25/25 [==============================] - 1s 37ms/step - loss: 1.9489e-05 - categorical_accuracy: 0.9272 - val_loss: 0.1173 - val_categorical_accuracy: 0.8676\n",
            "Epoch 18/20\n",
            "25/25 [==============================] - 1s 38ms/step - loss: 1.6380e-05 - categorical_accuracy: 0.9301 - val_loss: 0.1191 - val_categorical_accuracy: 0.8661\n",
            "Epoch 19/20\n",
            "25/25 [==============================] - 1s 26ms/step - loss: 1.3772e-05 - categorical_accuracy: 0.9278 - val_loss: 0.1217 - val_categorical_accuracy: 0.8601\n",
            "Epoch 20/20\n",
            "25/25 [==============================] - 1s 24ms/step - loss: 1.1811e-05 - categorical_accuracy: 0.9227 - val_loss: 0.1231 - val_categorical_accuracy: 0.8646\n"
          ]
        },
        {
          "output_type": "display_data",
          "data": {
            "text/plain": [
              "<Figure size 432x288 with 1 Axes>"
            ],
            "image/png": "[encoded data removed]"
          },
          "metadata": {
            "needs_background": "light"
          }
        },
        {
          "output_type": "display_data",
          "data": {
            "text/plain": [
              "<Figure size 432x288 with 1 Axes>"
            ],
            "image/png": "[encoded data removed]"
          },
          "metadata": {
            "needs_background": "light"
          }
        }
      ]
    },
    {
      "cell_type": "code",
      "source": [
        "_, categorical_acc = shallow_mlp_model.evaluate(test_dataset)\n",
        "print(f\"Categorical accuracy on the test set: {round(categorical_acc * 100, 2)}%.\")"
      ],
      "metadata": {
        "colab": {
          "base_uri": "https://localhost:8080/"
        },
        "id": "pyZPuD71o54_",
        "outputId": "df6642b1-8d98-4dd3-9a33-80ec009027e5"
      },
      "execution_count": 104,
      "outputs": [
        {
          "output_type": "stream",
          "name": "stdout",
          "text": [
            "6/6 [==============================] - 0s 12ms/step - loss: 0.1332 - categorical_accuracy: 0.8748\n",
            "Categorical accuracy on the test set: 87.48%.\n"
          ]
        }
      ]
    },
    {
      "cell_type": "markdown",
      "source": [
        "# Reference\n",
        "- https://medium.com/the-owl/imbalanced-multilabel-image-classification-using-keras-fbd8c60d7a4b\n",
        "- https://link.springer.com/chapter/10.1007%2F978-3-642-40846-5_16\n",
        "- Descriptions for algorithms, process, and evaluation metrics: https://towardsdatascience.com/journey-to-the-center-of-multi-label-classification-384c40229bff\n",
        "- Algorithms: https://scikit-learn.org/stable/modules/multiclass.html\n",
        "- Classifier chain: https://arxiv.org/abs/1912.13405, https://www.cs.waikato.ac.nz/~eibe/pubs/chains.pdf\n",
        "- Multilabel: https://www.analyticsvidhya.com/blog/2017/08/introduction-to-multi-label-classification/\n",
        "- Keras: https://keras.io/examples/nlp/multi_label_classification/"
      ],
      "metadata": {
        "id": "cmSZSTISUc9v"
      }
    }
  ]
}